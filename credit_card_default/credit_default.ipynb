{
 "cells": [
  {
   "cell_type": "markdown",
   "metadata": {},
   "source": [
    "# Credit Card Default Prediction"
   ]
  },
  {
   "cell_type": "code",
   "execution_count": 42,
   "metadata": {},
   "outputs": [],
   "source": [
    "# import packages\n",
    "\n",
    "from sklearn import tree \n",
    "from sklearn.tree import DecisionTreeClassifier\n",
    "from sklearn.model_selection import train_test_split \n",
    "from sklearn.neighbors import KNeighborsClassifier, KNeighborsRegressor\n",
    "from statsmodels.nonparametric.smoothers_lowess import lowess\n",
    "from sklearn.naive_bayes import BernoulliNB, GaussianNB, MultinomialNB\n",
    "from sklearn.preprocessing import normalize, scale, Normalizer, StandardScaler, OneHotEncoder\n",
    "from sklearn.linear_model import LogisticRegression, LinearRegression\n",
    "from sklearn.svm import SVC, SVR, LinearSVC\n",
    "from sklearn.multiclass import OneVsRestClassifier, OneVsOneClassifier\n",
    "from sklearn.ensemble import RandomForestClassifier\n",
    "\n",
    "from sklearn.compose import ColumnTransformer\n",
    "from sklearn.impute import SimpleImputer\n",
    "from sklearn.model_selection import GridSearchCV\n",
    "from sklearn.pipeline import Pipeline, FeatureUnion, make_pipeline\n",
    "from sklearn.preprocessing import FunctionTransformer\n",
    "\n",
    "\n",
    "import numpy as np\n",
    "import pandas as pd\n",
    "import pickle \n"
   ]
  },
  {
   "cell_type": "code",
   "execution_count": 43,
   "metadata": {},
   "outputs": [],
   "source": [
    "import matplotlib.pyplot as plt \n",
    "\n",
    "import seaborn as sns\n",
    "sns.set(style=\"white\") #white background style for seaborn plots\n",
    "sns.set(style=\"whitegrid\", color_codes=True)"
   ]
  },
  {
   "cell_type": "code",
   "execution_count": 44,
   "metadata": {},
   "outputs": [],
   "source": [
    "import altair as alt\n",
    "from sklearn.dummy import DummyClassifier\n",
    "from sklearn.metrics import f1_score\n",
    "from sklearn.metrics import confusion_matrix, roc_curve\n",
    "from sklearn.metrics import plot_confusion_matrix\n",
    "from sklearn.metrics import classification_report\n",
    "from sklearn.ensemble import RandomForestClassifier\n",
    "from lightgbm import LGBMClassifier\n",
    "from xgboost import XGBClassifier\n",
    "from sklearn.ensemble import VotingClassifier, AdaBoostClassifier, GradientBoostingClassifier, RandomForestRegressor\n",
    "from sklearn.neural_network import MLPClassifier, MLPRegressor\n",
    "from sklearn.model_selection import GridSearchCV, RandomizedSearchCV\n",
    "from sklearn.feature_selection import RFE\n",
    "from sklearn.metrics import roc_auc_score\n",
    "import time"
   ]
  },
  {
   "cell_type": "markdown",
   "metadata": {},
   "source": [
    "### Introduction\n",
    "\n",
    "For this problem, I will use [UCI default of credit card clients Data Set](https://archive.ics.uci.edu/ml/datasets/default+of+credit+card+clients). In this data set, there are 30,000 examples and 24 features, and the goal is to estimate whether a person will default (fail to pay) their credit card bills; this column is labeled \"default payment next month\" in the data. The rest of the columns can be used as features.\n"
   ]
  },
  {
   "cell_type": "code",
   "execution_count": 46,
   "metadata": {},
   "outputs": [],
   "source": [
    "# load the data set\n",
    "\n",
    "cc = pd.read_excel('credit.xls',header =1)"
   ]
  },
  {
   "cell_type": "code",
   "execution_count": 47,
   "metadata": {},
   "outputs": [
    {
     "data": {
      "text/html": [
       "<div>\n",
       "<style scoped>\n",
       "    .dataframe tbody tr th:only-of-type {\n",
       "        vertical-align: middle;\n",
       "    }\n",
       "\n",
       "    .dataframe tbody tr th {\n",
       "        vertical-align: top;\n",
       "    }\n",
       "\n",
       "    .dataframe thead th {\n",
       "        text-align: right;\n",
       "    }\n",
       "</style>\n",
       "<table border=\"1\" class=\"dataframe\">\n",
       "  <thead>\n",
       "    <tr style=\"text-align: right;\">\n",
       "      <th></th>\n",
       "      <th>ID</th>\n",
       "      <th>LIMIT_BAL</th>\n",
       "      <th>SEX</th>\n",
       "      <th>EDUCATION</th>\n",
       "      <th>MARRIAGE</th>\n",
       "      <th>AGE</th>\n",
       "      <th>PAY_0</th>\n",
       "      <th>PAY_2</th>\n",
       "      <th>PAY_3</th>\n",
       "      <th>PAY_4</th>\n",
       "      <th>...</th>\n",
       "      <th>BILL_AMT4</th>\n",
       "      <th>BILL_AMT5</th>\n",
       "      <th>BILL_AMT6</th>\n",
       "      <th>PAY_AMT1</th>\n",
       "      <th>PAY_AMT2</th>\n",
       "      <th>PAY_AMT3</th>\n",
       "      <th>PAY_AMT4</th>\n",
       "      <th>PAY_AMT5</th>\n",
       "      <th>PAY_AMT6</th>\n",
       "      <th>default payment next month</th>\n",
       "    </tr>\n",
       "  </thead>\n",
       "  <tbody>\n",
       "    <tr>\n",
       "      <td>0</td>\n",
       "      <td>1</td>\n",
       "      <td>20000</td>\n",
       "      <td>2</td>\n",
       "      <td>2</td>\n",
       "      <td>1</td>\n",
       "      <td>24</td>\n",
       "      <td>2</td>\n",
       "      <td>2</td>\n",
       "      <td>-1</td>\n",
       "      <td>-1</td>\n",
       "      <td>...</td>\n",
       "      <td>0</td>\n",
       "      <td>0</td>\n",
       "      <td>0</td>\n",
       "      <td>0</td>\n",
       "      <td>689</td>\n",
       "      <td>0</td>\n",
       "      <td>0</td>\n",
       "      <td>0</td>\n",
       "      <td>0</td>\n",
       "      <td>1</td>\n",
       "    </tr>\n",
       "    <tr>\n",
       "      <td>1</td>\n",
       "      <td>2</td>\n",
       "      <td>120000</td>\n",
       "      <td>2</td>\n",
       "      <td>2</td>\n",
       "      <td>2</td>\n",
       "      <td>26</td>\n",
       "      <td>-1</td>\n",
       "      <td>2</td>\n",
       "      <td>0</td>\n",
       "      <td>0</td>\n",
       "      <td>...</td>\n",
       "      <td>3272</td>\n",
       "      <td>3455</td>\n",
       "      <td>3261</td>\n",
       "      <td>0</td>\n",
       "      <td>1000</td>\n",
       "      <td>1000</td>\n",
       "      <td>1000</td>\n",
       "      <td>0</td>\n",
       "      <td>2000</td>\n",
       "      <td>1</td>\n",
       "    </tr>\n",
       "    <tr>\n",
       "      <td>2</td>\n",
       "      <td>3</td>\n",
       "      <td>90000</td>\n",
       "      <td>2</td>\n",
       "      <td>2</td>\n",
       "      <td>2</td>\n",
       "      <td>34</td>\n",
       "      <td>0</td>\n",
       "      <td>0</td>\n",
       "      <td>0</td>\n",
       "      <td>0</td>\n",
       "      <td>...</td>\n",
       "      <td>14331</td>\n",
       "      <td>14948</td>\n",
       "      <td>15549</td>\n",
       "      <td>1518</td>\n",
       "      <td>1500</td>\n",
       "      <td>1000</td>\n",
       "      <td>1000</td>\n",
       "      <td>1000</td>\n",
       "      <td>5000</td>\n",
       "      <td>0</td>\n",
       "    </tr>\n",
       "    <tr>\n",
       "      <td>3</td>\n",
       "      <td>4</td>\n",
       "      <td>50000</td>\n",
       "      <td>2</td>\n",
       "      <td>2</td>\n",
       "      <td>1</td>\n",
       "      <td>37</td>\n",
       "      <td>0</td>\n",
       "      <td>0</td>\n",
       "      <td>0</td>\n",
       "      <td>0</td>\n",
       "      <td>...</td>\n",
       "      <td>28314</td>\n",
       "      <td>28959</td>\n",
       "      <td>29547</td>\n",
       "      <td>2000</td>\n",
       "      <td>2019</td>\n",
       "      <td>1200</td>\n",
       "      <td>1100</td>\n",
       "      <td>1069</td>\n",
       "      <td>1000</td>\n",
       "      <td>0</td>\n",
       "    </tr>\n",
       "    <tr>\n",
       "      <td>4</td>\n",
       "      <td>5</td>\n",
       "      <td>50000</td>\n",
       "      <td>1</td>\n",
       "      <td>2</td>\n",
       "      <td>1</td>\n",
       "      <td>57</td>\n",
       "      <td>-1</td>\n",
       "      <td>0</td>\n",
       "      <td>-1</td>\n",
       "      <td>0</td>\n",
       "      <td>...</td>\n",
       "      <td>20940</td>\n",
       "      <td>19146</td>\n",
       "      <td>19131</td>\n",
       "      <td>2000</td>\n",
       "      <td>36681</td>\n",
       "      <td>10000</td>\n",
       "      <td>9000</td>\n",
       "      <td>689</td>\n",
       "      <td>679</td>\n",
       "      <td>0</td>\n",
       "    </tr>\n",
       "  </tbody>\n",
       "</table>\n",
       "<p>5 rows × 25 columns</p>\n",
       "</div>"
      ],
      "text/plain": [
       "   ID  LIMIT_BAL  SEX  EDUCATION  MARRIAGE  AGE  PAY_0  PAY_2  PAY_3  PAY_4  \\\n",
       "0   1      20000    2          2         1   24      2      2     -1     -1   \n",
       "1   2     120000    2          2         2   26     -1      2      0      0   \n",
       "2   3      90000    2          2         2   34      0      0      0      0   \n",
       "3   4      50000    2          2         1   37      0      0      0      0   \n",
       "4   5      50000    1          2         1   57     -1      0     -1      0   \n",
       "\n",
       "   ...  BILL_AMT4  BILL_AMT5  BILL_AMT6  PAY_AMT1  PAY_AMT2  PAY_AMT3  \\\n",
       "0  ...          0          0          0         0       689         0   \n",
       "1  ...       3272       3455       3261         0      1000      1000   \n",
       "2  ...      14331      14948      15549      1518      1500      1000   \n",
       "3  ...      28314      28959      29547      2000      2019      1200   \n",
       "4  ...      20940      19146      19131      2000     36681     10000   \n",
       "\n",
       "   PAY_AMT4  PAY_AMT5  PAY_AMT6  default payment next month  \n",
       "0         0         0         0                           1  \n",
       "1      1000         0      2000                           1  \n",
       "2      1000      1000      5000                           0  \n",
       "3      1100      1069      1000                           0  \n",
       "4      9000       689       679                           0  \n",
       "\n",
       "[5 rows x 25 columns]"
      ]
     },
     "execution_count": 47,
     "metadata": {},
     "output_type": "execute_result"
    }
   ],
   "source": [
    "# take a look at \n",
    "\n",
    "cc.head()"
   ]
  },
  {
   "cell_type": "code",
   "execution_count": 48,
   "metadata": {},
   "outputs": [],
   "source": [
    "# drop the ID column\n",
    "cc_df = cc.drop(columns=['ID'])"
   ]
  },
  {
   "cell_type": "code",
   "execution_count": 49,
   "metadata": {},
   "outputs": [],
   "source": [
    "# read name the target column as 'y'\n",
    "\n",
    "cc_df = cc_df.rename(columns={'default payment next month': 'y'})"
   ]
  },
  {
   "cell_type": "code",
   "execution_count": 50,
   "metadata": {},
   "outputs": [],
   "source": [
    "### Create X and y\n",
    "\n",
    "X = cc_df.drop(['y'], axis=1)\n",
    "y = cc_df['y']"
   ]
  },
  {
   "cell_type": "code",
   "execution_count": 51,
   "metadata": {},
   "outputs": [
    {
     "data": {
      "text/html": [
       "<div>\n",
       "<style scoped>\n",
       "    .dataframe tbody tr th:only-of-type {\n",
       "        vertical-align: middle;\n",
       "    }\n",
       "\n",
       "    .dataframe tbody tr th {\n",
       "        vertical-align: top;\n",
       "    }\n",
       "\n",
       "    .dataframe thead th {\n",
       "        text-align: right;\n",
       "    }\n",
       "</style>\n",
       "<table border=\"1\" class=\"dataframe\">\n",
       "  <thead>\n",
       "    <tr style=\"text-align: right;\">\n",
       "      <th></th>\n",
       "      <th>LIMIT_BAL</th>\n",
       "      <th>SEX</th>\n",
       "      <th>EDUCATION</th>\n",
       "      <th>MARRIAGE</th>\n",
       "      <th>AGE</th>\n",
       "      <th>PAY_0</th>\n",
       "      <th>PAY_2</th>\n",
       "      <th>PAY_3</th>\n",
       "      <th>PAY_4</th>\n",
       "      <th>PAY_5</th>\n",
       "      <th>...</th>\n",
       "      <th>BILL_AMT3</th>\n",
       "      <th>BILL_AMT4</th>\n",
       "      <th>BILL_AMT5</th>\n",
       "      <th>BILL_AMT6</th>\n",
       "      <th>PAY_AMT1</th>\n",
       "      <th>PAY_AMT2</th>\n",
       "      <th>PAY_AMT3</th>\n",
       "      <th>PAY_AMT4</th>\n",
       "      <th>PAY_AMT5</th>\n",
       "      <th>PAY_AMT6</th>\n",
       "    </tr>\n",
       "  </thead>\n",
       "  <tbody>\n",
       "    <tr>\n",
       "      <td>0</td>\n",
       "      <td>20000</td>\n",
       "      <td>2</td>\n",
       "      <td>2</td>\n",
       "      <td>1</td>\n",
       "      <td>24</td>\n",
       "      <td>2</td>\n",
       "      <td>2</td>\n",
       "      <td>-1</td>\n",
       "      <td>-1</td>\n",
       "      <td>-2</td>\n",
       "      <td>...</td>\n",
       "      <td>689</td>\n",
       "      <td>0</td>\n",
       "      <td>0</td>\n",
       "      <td>0</td>\n",
       "      <td>0</td>\n",
       "      <td>689</td>\n",
       "      <td>0</td>\n",
       "      <td>0</td>\n",
       "      <td>0</td>\n",
       "      <td>0</td>\n",
       "    </tr>\n",
       "    <tr>\n",
       "      <td>1</td>\n",
       "      <td>120000</td>\n",
       "      <td>2</td>\n",
       "      <td>2</td>\n",
       "      <td>2</td>\n",
       "      <td>26</td>\n",
       "      <td>-1</td>\n",
       "      <td>2</td>\n",
       "      <td>0</td>\n",
       "      <td>0</td>\n",
       "      <td>0</td>\n",
       "      <td>...</td>\n",
       "      <td>2682</td>\n",
       "      <td>3272</td>\n",
       "      <td>3455</td>\n",
       "      <td>3261</td>\n",
       "      <td>0</td>\n",
       "      <td>1000</td>\n",
       "      <td>1000</td>\n",
       "      <td>1000</td>\n",
       "      <td>0</td>\n",
       "      <td>2000</td>\n",
       "    </tr>\n",
       "    <tr>\n",
       "      <td>2</td>\n",
       "      <td>90000</td>\n",
       "      <td>2</td>\n",
       "      <td>2</td>\n",
       "      <td>2</td>\n",
       "      <td>34</td>\n",
       "      <td>0</td>\n",
       "      <td>0</td>\n",
       "      <td>0</td>\n",
       "      <td>0</td>\n",
       "      <td>0</td>\n",
       "      <td>...</td>\n",
       "      <td>13559</td>\n",
       "      <td>14331</td>\n",
       "      <td>14948</td>\n",
       "      <td>15549</td>\n",
       "      <td>1518</td>\n",
       "      <td>1500</td>\n",
       "      <td>1000</td>\n",
       "      <td>1000</td>\n",
       "      <td>1000</td>\n",
       "      <td>5000</td>\n",
       "    </tr>\n",
       "    <tr>\n",
       "      <td>3</td>\n",
       "      <td>50000</td>\n",
       "      <td>2</td>\n",
       "      <td>2</td>\n",
       "      <td>1</td>\n",
       "      <td>37</td>\n",
       "      <td>0</td>\n",
       "      <td>0</td>\n",
       "      <td>0</td>\n",
       "      <td>0</td>\n",
       "      <td>0</td>\n",
       "      <td>...</td>\n",
       "      <td>49291</td>\n",
       "      <td>28314</td>\n",
       "      <td>28959</td>\n",
       "      <td>29547</td>\n",
       "      <td>2000</td>\n",
       "      <td>2019</td>\n",
       "      <td>1200</td>\n",
       "      <td>1100</td>\n",
       "      <td>1069</td>\n",
       "      <td>1000</td>\n",
       "    </tr>\n",
       "    <tr>\n",
       "      <td>4</td>\n",
       "      <td>50000</td>\n",
       "      <td>1</td>\n",
       "      <td>2</td>\n",
       "      <td>1</td>\n",
       "      <td>57</td>\n",
       "      <td>-1</td>\n",
       "      <td>0</td>\n",
       "      <td>-1</td>\n",
       "      <td>0</td>\n",
       "      <td>0</td>\n",
       "      <td>...</td>\n",
       "      <td>35835</td>\n",
       "      <td>20940</td>\n",
       "      <td>19146</td>\n",
       "      <td>19131</td>\n",
       "      <td>2000</td>\n",
       "      <td>36681</td>\n",
       "      <td>10000</td>\n",
       "      <td>9000</td>\n",
       "      <td>689</td>\n",
       "      <td>679</td>\n",
       "    </tr>\n",
       "  </tbody>\n",
       "</table>\n",
       "<p>5 rows × 23 columns</p>\n",
       "</div>"
      ],
      "text/plain": [
       "   LIMIT_BAL  SEX  EDUCATION  MARRIAGE  AGE  PAY_0  PAY_2  PAY_3  PAY_4  \\\n",
       "0      20000    2          2         1   24      2      2     -1     -1   \n",
       "1     120000    2          2         2   26     -1      2      0      0   \n",
       "2      90000    2          2         2   34      0      0      0      0   \n",
       "3      50000    2          2         1   37      0      0      0      0   \n",
       "4      50000    1          2         1   57     -1      0     -1      0   \n",
       "\n",
       "   PAY_5  ...  BILL_AMT3  BILL_AMT4  BILL_AMT5  BILL_AMT6  PAY_AMT1  PAY_AMT2  \\\n",
       "0     -2  ...        689          0          0          0         0       689   \n",
       "1      0  ...       2682       3272       3455       3261         0      1000   \n",
       "2      0  ...      13559      14331      14948      15549      1518      1500   \n",
       "3      0  ...      49291      28314      28959      29547      2000      2019   \n",
       "4      0  ...      35835      20940      19146      19131      2000     36681   \n",
       "\n",
       "   PAY_AMT3  PAY_AMT4  PAY_AMT5  PAY_AMT6  \n",
       "0         0         0         0         0  \n",
       "1      1000      1000         0      2000  \n",
       "2      1000      1000      1000      5000  \n",
       "3      1200      1100      1069      1000  \n",
       "4     10000      9000       689       679  \n",
       "\n",
       "[5 rows x 23 columns]"
      ]
     },
     "execution_count": 51,
     "metadata": {},
     "output_type": "execute_result"
    }
   ],
   "source": [
    "X.head()"
   ]
  },
  {
   "cell_type": "code",
   "execution_count": 52,
   "metadata": {},
   "outputs": [
    {
     "data": {
      "text/plain": [
       "0    1\n",
       "1    1\n",
       "2    0\n",
       "3    0\n",
       "4    0\n",
       "Name: y, dtype: int64"
      ]
     },
     "execution_count": 52,
     "metadata": {},
     "output_type": "execute_result"
    }
   ],
   "source": [
    "y.head()"
   ]
  },
  {
   "cell_type": "code",
   "execution_count": 53,
   "metadata": {},
   "outputs": [],
   "source": [
    "\n",
    "def split_data(X, y):\n",
    "    \"\"\"\n",
    "    Shows train and test error \n",
    "    Parameters\n",
    "    ----------\n",
    "    model: sklearn classifier model\n",
    "        The sklearn model\n",
    "    X: numpy.ndarray        \n",
    "        The X part (features) of the dataset\n",
    "    y numpy.ndarray\n",
    "        The y part (target) of the dataset\n",
    "    Returns\n",
    "    -------        \n",
    "        X_train: numpy.ndarray\n",
    "            The X part of the train dataset\n",
    "        y_train: numpy.ndarray  \n",
    "            The y part of the train dataset\n",
    "        X_valid: numpy.ndarray  \n",
    "            The X part of the validation dataset        \n",
    "        y_valid\n",
    "            The y part of the validation dataset        \n",
    "        X_trainvalid\n",
    "            The X part of the train+validation dataset        \n",
    "        y_trainvalid\n",
    "            The y part of the train+validation dataset        \n",
    "        X_test\n",
    "            The X part of the test dataset        \n",
    "        y_test            \n",
    "            The y part of the test dataset        \n",
    "    \"\"\"\n",
    "    X_trainvalid, X_test, y_trainvalid, y_test = train_test_split(X, y, train_size=0.8, random_state=22)\n",
    "    X_train, X_valid, y_train, y_valid = train_test_split(X_trainvalid, y_trainvalid, \n",
    "                                                          train_size=0.75, random_state=22)\n",
    "\n",
    "    print(\"Number of training examples:\", len(y_train))\n",
    "    print(\"Number of validation examples:\", len(y_valid))\n",
    "    print(\"Number of test examples:\", len(y_test))\n",
    "    \n",
    "    return X_train, y_train, X_valid, y_valid, X_trainvalid, y_trainvalid, X_test, y_test"
   ]
  },
  {
   "cell_type": "code",
   "execution_count": 54,
   "metadata": {},
   "outputs": [
    {
     "name": "stdout",
     "output_type": "stream",
     "text": [
      "Number of training examples: 18000\n",
      "Number of validation examples: 6000\n",
      "Number of test examples: 6000\n"
     ]
    }
   ],
   "source": [
    "X_train, y_train, X_valid, y_valid, X_trainvalid, y_trainvalid, X_test, y_test = split_data(X,y)"
   ]
  },
  {
   "cell_type": "markdown",
   "metadata": {},
   "source": [
    "### (2) EDA\n"
   ]
  },
  {
   "cell_type": "code",
   "execution_count": 55,
   "metadata": {},
   "outputs": [
    {
     "name": "stdout",
     "output_type": "stream",
     "text": [
      "<class 'pandas.core.frame.DataFrame'>\n",
      "Int64Index: 18000 entries, 4858 to 17127\n",
      "Data columns (total 23 columns):\n",
      "LIMIT_BAL    18000 non-null int64\n",
      "SEX          18000 non-null int64\n",
      "EDUCATION    18000 non-null int64\n",
      "MARRIAGE     18000 non-null int64\n",
      "AGE          18000 non-null int64\n",
      "PAY_0        18000 non-null int64\n",
      "PAY_2        18000 non-null int64\n",
      "PAY_3        18000 non-null int64\n",
      "PAY_4        18000 non-null int64\n",
      "PAY_5        18000 non-null int64\n",
      "PAY_6        18000 non-null int64\n",
      "BILL_AMT1    18000 non-null int64\n",
      "BILL_AMT2    18000 non-null int64\n",
      "BILL_AMT3    18000 non-null int64\n",
      "BILL_AMT4    18000 non-null int64\n",
      "BILL_AMT5    18000 non-null int64\n",
      "BILL_AMT6    18000 non-null int64\n",
      "PAY_AMT1     18000 non-null int64\n",
      "PAY_AMT2     18000 non-null int64\n",
      "PAY_AMT3     18000 non-null int64\n",
      "PAY_AMT4     18000 non-null int64\n",
      "PAY_AMT5     18000 non-null int64\n",
      "PAY_AMT6     18000 non-null int64\n",
      "dtypes: int64(23)\n",
      "memory usage: 3.3 MB\n"
     ]
    }
   ],
   "source": [
    "X_train.info()"
   ]
  },
  {
   "cell_type": "markdown",
   "metadata": {},
   "source": [
    "Note: all column are integers and there are no missing data."
   ]
  },
  {
   "cell_type": "code",
   "execution_count": 56,
   "metadata": {},
   "outputs": [
    {
     "data": {
      "text/html": [
       "<div>\n",
       "<style scoped>\n",
       "    .dataframe tbody tr th:only-of-type {\n",
       "        vertical-align: middle;\n",
       "    }\n",
       "\n",
       "    .dataframe tbody tr th {\n",
       "        vertical-align: top;\n",
       "    }\n",
       "\n",
       "    .dataframe thead th {\n",
       "        text-align: right;\n",
       "    }\n",
       "</style>\n",
       "<table border=\"1\" class=\"dataframe\">\n",
       "  <thead>\n",
       "    <tr style=\"text-align: right;\">\n",
       "      <th></th>\n",
       "      <th>LIMIT_BAL</th>\n",
       "      <th>SEX</th>\n",
       "      <th>EDUCATION</th>\n",
       "      <th>MARRIAGE</th>\n",
       "      <th>AGE</th>\n",
       "      <th>PAY_0</th>\n",
       "      <th>PAY_2</th>\n",
       "      <th>PAY_3</th>\n",
       "      <th>PAY_4</th>\n",
       "      <th>PAY_5</th>\n",
       "      <th>...</th>\n",
       "      <th>BILL_AMT3</th>\n",
       "      <th>BILL_AMT4</th>\n",
       "      <th>BILL_AMT5</th>\n",
       "      <th>BILL_AMT6</th>\n",
       "      <th>PAY_AMT1</th>\n",
       "      <th>PAY_AMT2</th>\n",
       "      <th>PAY_AMT3</th>\n",
       "      <th>PAY_AMT4</th>\n",
       "      <th>PAY_AMT5</th>\n",
       "      <th>PAY_AMT6</th>\n",
       "    </tr>\n",
       "  </thead>\n",
       "  <tbody>\n",
       "    <tr>\n",
       "      <td>count</td>\n",
       "      <td>18000.000000</td>\n",
       "      <td>18000.000000</td>\n",
       "      <td>18000.000000</td>\n",
       "      <td>18000.000000</td>\n",
       "      <td>18000.000000</td>\n",
       "      <td>18000.000000</td>\n",
       "      <td>18000.000000</td>\n",
       "      <td>18000.000000</td>\n",
       "      <td>18000.000000</td>\n",
       "      <td>18000.000000</td>\n",
       "      <td>...</td>\n",
       "      <td>18000.000000</td>\n",
       "      <td>18000.000000</td>\n",
       "      <td>18000.000000</td>\n",
       "      <td>18000.000000</td>\n",
       "      <td>18000.00000</td>\n",
       "      <td>1.800000e+04</td>\n",
       "      <td>18000.000000</td>\n",
       "      <td>18000.000000</td>\n",
       "      <td>18000.000000</td>\n",
       "      <td>18000.000000</td>\n",
       "    </tr>\n",
       "    <tr>\n",
       "      <td>mean</td>\n",
       "      <td>166918.315556</td>\n",
       "      <td>1.604056</td>\n",
       "      <td>1.850056</td>\n",
       "      <td>1.552833</td>\n",
       "      <td>35.388833</td>\n",
       "      <td>-0.015944</td>\n",
       "      <td>-0.133722</td>\n",
       "      <td>-0.159722</td>\n",
       "      <td>-0.214389</td>\n",
       "      <td>-0.262500</td>\n",
       "      <td>...</td>\n",
       "      <td>46987.866611</td>\n",
       "      <td>43332.309611</td>\n",
       "      <td>40192.567167</td>\n",
       "      <td>38774.752611</td>\n",
       "      <td>5725.34550</td>\n",
       "      <td>5.773996e+03</td>\n",
       "      <td>5251.182389</td>\n",
       "      <td>4735.146333</td>\n",
       "      <td>4766.516500</td>\n",
       "      <td>5198.747222</td>\n",
       "    </tr>\n",
       "    <tr>\n",
       "      <td>std</td>\n",
       "      <td>129581.922701</td>\n",
       "      <td>0.489066</td>\n",
       "      <td>0.788773</td>\n",
       "      <td>0.521325</td>\n",
       "      <td>9.168241</td>\n",
       "      <td>1.113045</td>\n",
       "      <td>1.190204</td>\n",
       "      <td>1.202942</td>\n",
       "      <td>1.175137</td>\n",
       "      <td>1.141977</td>\n",
       "      <td>...</td>\n",
       "      <td>68678.816258</td>\n",
       "      <td>64440.206073</td>\n",
       "      <td>60625.793607</td>\n",
       "      <td>59466.664180</td>\n",
       "      <td>17222.84963</td>\n",
       "      <td>2.217529e+04</td>\n",
       "      <td>18517.641142</td>\n",
       "      <td>15300.716847</td>\n",
       "      <td>15382.522181</td>\n",
       "      <td>17704.627362</td>\n",
       "    </tr>\n",
       "    <tr>\n",
       "      <td>min</td>\n",
       "      <td>10000.000000</td>\n",
       "      <td>1.000000</td>\n",
       "      <td>0.000000</td>\n",
       "      <td>0.000000</td>\n",
       "      <td>21.000000</td>\n",
       "      <td>-2.000000</td>\n",
       "      <td>-2.000000</td>\n",
       "      <td>-2.000000</td>\n",
       "      <td>-2.000000</td>\n",
       "      <td>-2.000000</td>\n",
       "      <td>...</td>\n",
       "      <td>-157264.000000</td>\n",
       "      <td>-81334.000000</td>\n",
       "      <td>-81334.000000</td>\n",
       "      <td>-209051.000000</td>\n",
       "      <td>0.00000</td>\n",
       "      <td>0.000000e+00</td>\n",
       "      <td>0.000000</td>\n",
       "      <td>0.000000</td>\n",
       "      <td>0.000000</td>\n",
       "      <td>0.000000</td>\n",
       "    </tr>\n",
       "    <tr>\n",
       "      <td>25%</td>\n",
       "      <td>50000.000000</td>\n",
       "      <td>1.000000</td>\n",
       "      <td>1.000000</td>\n",
       "      <td>1.000000</td>\n",
       "      <td>28.000000</td>\n",
       "      <td>-1.000000</td>\n",
       "      <td>-1.000000</td>\n",
       "      <td>-1.000000</td>\n",
       "      <td>-1.000000</td>\n",
       "      <td>-1.000000</td>\n",
       "      <td>...</td>\n",
       "      <td>2663.750000</td>\n",
       "      <td>2290.250000</td>\n",
       "      <td>1716.500000</td>\n",
       "      <td>1279.500000</td>\n",
       "      <td>1000.00000</td>\n",
       "      <td>8.200000e+02</td>\n",
       "      <td>390.000000</td>\n",
       "      <td>280.000000</td>\n",
       "      <td>234.750000</td>\n",
       "      <td>132.750000</td>\n",
       "    </tr>\n",
       "    <tr>\n",
       "      <td>50%</td>\n",
       "      <td>140000.000000</td>\n",
       "      <td>2.000000</td>\n",
       "      <td>2.000000</td>\n",
       "      <td>2.000000</td>\n",
       "      <td>34.000000</td>\n",
       "      <td>0.000000</td>\n",
       "      <td>0.000000</td>\n",
       "      <td>0.000000</td>\n",
       "      <td>0.000000</td>\n",
       "      <td>0.000000</td>\n",
       "      <td>...</td>\n",
       "      <td>20159.000000</td>\n",
       "      <td>19111.000000</td>\n",
       "      <td>18073.500000</td>\n",
       "      <td>16818.000000</td>\n",
       "      <td>2138.00000</td>\n",
       "      <td>2.013500e+03</td>\n",
       "      <td>1824.500000</td>\n",
       "      <td>1500.000000</td>\n",
       "      <td>1505.000000</td>\n",
       "      <td>1500.000000</td>\n",
       "    </tr>\n",
       "    <tr>\n",
       "      <td>75%</td>\n",
       "      <td>240000.000000</td>\n",
       "      <td>2.000000</td>\n",
       "      <td>2.000000</td>\n",
       "      <td>2.000000</td>\n",
       "      <td>41.000000</td>\n",
       "      <td>0.000000</td>\n",
       "      <td>0.000000</td>\n",
       "      <td>0.000000</td>\n",
       "      <td>0.000000</td>\n",
       "      <td>0.000000</td>\n",
       "      <td>...</td>\n",
       "      <td>60380.500000</td>\n",
       "      <td>54909.000000</td>\n",
       "      <td>50134.750000</td>\n",
       "      <td>49169.000000</td>\n",
       "      <td>5014.25000</td>\n",
       "      <td>5.000000e+03</td>\n",
       "      <td>4429.500000</td>\n",
       "      <td>4006.000000</td>\n",
       "      <td>4100.000000</td>\n",
       "      <td>4003.000000</td>\n",
       "    </tr>\n",
       "    <tr>\n",
       "      <td>max</td>\n",
       "      <td>1000000.000000</td>\n",
       "      <td>2.000000</td>\n",
       "      <td>6.000000</td>\n",
       "      <td>3.000000</td>\n",
       "      <td>75.000000</td>\n",
       "      <td>8.000000</td>\n",
       "      <td>8.000000</td>\n",
       "      <td>8.000000</td>\n",
       "      <td>8.000000</td>\n",
       "      <td>8.000000</td>\n",
       "      <td>...</td>\n",
       "      <td>855086.000000</td>\n",
       "      <td>891586.000000</td>\n",
       "      <td>927171.000000</td>\n",
       "      <td>961664.000000</td>\n",
       "      <td>873552.00000</td>\n",
       "      <td>1.227082e+06</td>\n",
       "      <td>896040.000000</td>\n",
       "      <td>621000.000000</td>\n",
       "      <td>426529.000000</td>\n",
       "      <td>528666.000000</td>\n",
       "    </tr>\n",
       "  </tbody>\n",
       "</table>\n",
       "<p>8 rows × 23 columns</p>\n",
       "</div>"
      ],
      "text/plain": [
       "            LIMIT_BAL           SEX     EDUCATION      MARRIAGE           AGE  \\\n",
       "count    18000.000000  18000.000000  18000.000000  18000.000000  18000.000000   \n",
       "mean    166918.315556      1.604056      1.850056      1.552833     35.388833   \n",
       "std     129581.922701      0.489066      0.788773      0.521325      9.168241   \n",
       "min      10000.000000      1.000000      0.000000      0.000000     21.000000   \n",
       "25%      50000.000000      1.000000      1.000000      1.000000     28.000000   \n",
       "50%     140000.000000      2.000000      2.000000      2.000000     34.000000   \n",
       "75%     240000.000000      2.000000      2.000000      2.000000     41.000000   \n",
       "max    1000000.000000      2.000000      6.000000      3.000000     75.000000   \n",
       "\n",
       "              PAY_0         PAY_2         PAY_3         PAY_4         PAY_5  \\\n",
       "count  18000.000000  18000.000000  18000.000000  18000.000000  18000.000000   \n",
       "mean      -0.015944     -0.133722     -0.159722     -0.214389     -0.262500   \n",
       "std        1.113045      1.190204      1.202942      1.175137      1.141977   \n",
       "min       -2.000000     -2.000000     -2.000000     -2.000000     -2.000000   \n",
       "25%       -1.000000     -1.000000     -1.000000     -1.000000     -1.000000   \n",
       "50%        0.000000      0.000000      0.000000      0.000000      0.000000   \n",
       "75%        0.000000      0.000000      0.000000      0.000000      0.000000   \n",
       "max        8.000000      8.000000      8.000000      8.000000      8.000000   \n",
       "\n",
       "       ...      BILL_AMT3      BILL_AMT4      BILL_AMT5      BILL_AMT6  \\\n",
       "count  ...   18000.000000   18000.000000   18000.000000   18000.000000   \n",
       "mean   ...   46987.866611   43332.309611   40192.567167   38774.752611   \n",
       "std    ...   68678.816258   64440.206073   60625.793607   59466.664180   \n",
       "min    ... -157264.000000  -81334.000000  -81334.000000 -209051.000000   \n",
       "25%    ...    2663.750000    2290.250000    1716.500000    1279.500000   \n",
       "50%    ...   20159.000000   19111.000000   18073.500000   16818.000000   \n",
       "75%    ...   60380.500000   54909.000000   50134.750000   49169.000000   \n",
       "max    ...  855086.000000  891586.000000  927171.000000  961664.000000   \n",
       "\n",
       "           PAY_AMT1      PAY_AMT2       PAY_AMT3       PAY_AMT4  \\\n",
       "count   18000.00000  1.800000e+04   18000.000000   18000.000000   \n",
       "mean     5725.34550  5.773996e+03    5251.182389    4735.146333   \n",
       "std     17222.84963  2.217529e+04   18517.641142   15300.716847   \n",
       "min         0.00000  0.000000e+00       0.000000       0.000000   \n",
       "25%      1000.00000  8.200000e+02     390.000000     280.000000   \n",
       "50%      2138.00000  2.013500e+03    1824.500000    1500.000000   \n",
       "75%      5014.25000  5.000000e+03    4429.500000    4006.000000   \n",
       "max    873552.00000  1.227082e+06  896040.000000  621000.000000   \n",
       "\n",
       "            PAY_AMT5       PAY_AMT6  \n",
       "count   18000.000000   18000.000000  \n",
       "mean     4766.516500    5198.747222  \n",
       "std     15382.522181   17704.627362  \n",
       "min         0.000000       0.000000  \n",
       "25%       234.750000     132.750000  \n",
       "50%      1505.000000    1500.000000  \n",
       "75%      4100.000000    4003.000000  \n",
       "max    426529.000000  528666.000000  \n",
       "\n",
       "[8 rows x 23 columns]"
      ]
     },
     "execution_count": 56,
     "metadata": {},
     "output_type": "execute_result"
    }
   ],
   "source": [
    "X_train.describe()"
   ]
  },
  {
   "cell_type": "markdown",
   "metadata": {},
   "source": [
    "Note: not many new findings here, but all the features are not in the same scale here. I may apply some scalers later."
   ]
  },
  {
   "cell_type": "code",
   "execution_count": 57,
   "metadata": {},
   "outputs": [
    {
     "data": {
      "image/png": "[encoded data removed]",
      "text/plain": [
       "<Figure size 1440x1080 with 2 Axes>"
      ]
     },
     "metadata": {},
     "output_type": "display_data"
    }
   ],
   "source": [
    "# create a heatmap of correlations between all pairs of features\n",
    "\n",
    "plt.subplots(figsize=(20,15))\n",
    "ax = plt.axes()\n",
    "ax.set_title(\"Correlation Heatmap (Reds)\")\n",
    "corr = cc_df.corr()\n",
    "sns.heatmap(corr, \n",
    "            xticklabels=corr.columns.values,\n",
    "            yticklabels=corr.columns.values,\n",
    "           cmap=\"Reds\",annot = True)\n",
    "plt.show()"
   ]
  },
  {
   "cell_type": "code",
   "execution_count": 58,
   "metadata": {},
   "outputs": [
    {
     "data": {
      "image/png": "[encoded data removed]",
      "text/plain": [
       "<Figure size 720x360 with 1 Axes>"
      ]
     },
     "metadata": {
      "needs_background": "light"
     },
     "output_type": "display_data"
    }
   ],
   "source": [
    "# show target's class distribution in a plot\n",
    "\n",
    "%matplotlib inline\n",
    "y_train.hist(bins=15, figsize=(10,5))\n",
    "plt.show()"
   ]
  },
  {
   "cell_type": "markdown",
   "metadata": {},
   "source": [
    "There are some imbalances in the target, not too severe, I will not address it."
   ]
  },
  {
   "cell_type": "code",
   "execution_count": 59,
   "metadata": {},
   "outputs": [
    {
     "name": "stdout",
     "output_type": "stream",
     "text": [
      "In the training set, the non-default percentage default is 0.776\n"
     ]
    }
   ],
   "source": [
    "print('In the training set, the non-default percentage default is', round(y_train.value_counts()[0]/len(y_train),3))"
   ]
  },
  {
   "cell_type": "markdown",
   "metadata": {},
   "source": [
    "If the classifier just predicts Not default(0), the model should perform significantly better than 0.776 to be considered as an effective classifier."
   ]
  },
  {
   "cell_type": "markdown",
   "metadata": {},
   "source": [
    "### (3) Baseline model\n"
   ]
  },
  {
   "cell_type": "code",
   "execution_count": 60,
   "metadata": {
    "scrolled": true
   },
   "outputs": [
    {
     "name": "stdout",
     "output_type": "stream",
     "text": [
      "0.6520555555555556\n",
      "0.6505\n"
     ]
    },
    {
     "name": "stderr",
     "output_type": "stream",
     "text": [
      "/Users/tonyhuang/opt/anaconda3/lib/python3.7/site-packages/sklearn/dummy.py:132: FutureWarning: The default value of strategy will change from stratified to prior in 0.24.\n",
      "  \"stratified to prior in 0.24.\", FutureWarning)\n"
     ]
    }
   ],
   "source": [
    "# try the default strategy is strategy =”stratified”\n",
    "\n",
    "dummy_clf = DummyClassifier()\n",
    "dummy_clf.fit(X_train, y_train)\n",
    "print(dummy_clf.score(X_train,y_train))\n",
    "print(dummy_clf.score(X_valid,y_valid))"
   ]
  },
  {
   "cell_type": "code",
   "execution_count": 61,
   "metadata": {},
   "outputs": [
    {
     "name": "stdout",
     "output_type": "stream",
     "text": [
      "0.7764444444444445\n",
      "0.777\n"
     ]
    }
   ],
   "source": [
    "# try the default strategy is strategy = \"most_frequent\"\n",
    "\n",
    "dummy_clf = DummyClassifier(strategy = \"most_frequent\")\n",
    "dummy_clf.fit(X_train, y_train)\n",
    "print(dummy_clf.score(X_train,y_train))\n",
    "print(dummy_clf.score(X_valid,y_valid))"
   ]
  },
  {
   "cell_type": "markdown",
   "metadata": {},
   "source": [
    "The dummy classifier surely will not provide satisfactory result. I will try other method and other metrics."
   ]
  },
  {
   "cell_type": "markdown",
   "metadata": {},
   "source": [
    "### (4) Logistic Regression\n"
   ]
  },
  {
   "cell_type": "code",
   "execution_count": 62,
   "metadata": {},
   "outputs": [
    {
     "name": "stdout",
     "output_type": "stream",
     "text": [
      "0.7763333333333333\n",
      "0.777\n"
     ]
    }
   ],
   "source": [
    "\n",
    "lr = LogisticRegression(max_iter = 10000)\n",
    "lr.fit(X_train,y_train)\n",
    "\n",
    "print(lr.score(X_train,y_train))\n",
    "print(lr.score(X_valid,y_valid))"
   ]
  },
  {
   "cell_type": "code",
   "execution_count": 63,
   "metadata": {},
   "outputs": [],
   "source": [
    "def display_confusion_matrix_classification_report(model, X_valid, y_valid, \n",
    "                                                   labels=['Non fraud', 'Fraud']):\n",
    "    \"\"\"\n",
    "    Displays confusion matrix and classification report. \n",
    "    \n",
    "    Arguments\n",
    "    ---------     \n",
    "    model -- sklearn classifier model\n",
    "        The sklearn model\n",
    "    X_valid -- numpy.ndarray        \n",
    "        The X part of the validation set\n",
    "    y_valid -- numpy.ndarray\n",
    "        The y part of the validation set       \n",
    "\n",
    "    Keyword arguments:\n",
    "    -----------\n",
    "    labels -- list (default = ['Non fraud', 'Fraud'])\n",
    "        The labels shown in the confusion matrix\n",
    "    Returns\n",
    "    -------\n",
    "        None\n",
    "    \"\"\"\n",
    "    ### Display confusion matrix \n",
    "    disp = plot_confusion_matrix(model, X_valid, y_valid,\n",
    "                                 display_labels=labels,\n",
    "                                 cmap=plt.cm.Blues, \n",
    "                                 values_format = 'd')\n",
    "    disp.ax_.set_title('Confusion matrix for the dataset')\n",
    "\n",
    "    ### Print classification report\n",
    "    print(classification_report(y_valid, model.predict(X_valid)))\n"
   ]
  },
  {
   "cell_type": "code",
   "execution_count": 64,
   "metadata": {},
   "outputs": [
    {
     "data": {
      "application/vnd.vegalite.v3+json": {
       "$schema": "https://vega.github.io/schema/vega-lite/v3.4.0.json",
       "config": {
        "axis": {
         "labelFontSize": 20,
         "titleFontSize": 20
        },
        "legend": {
         "labelFontSize": 20,
         "titleFontSize": 20
        },
        "mark": {
         "tooltip": null
        },
        "title": {
         "fontSize": 20
        },
        "view": {
         "height": 300,
         "width": 400
        }
       },
       "data": {
        "name": "data-e057275ee732c7c95518cb8cd33e1094"
       },
       "datasets": {
        "data-e057275ee732c7c95518cb8cd33e1094": [
         {
          "C_value": 1e-05,
          "Data": "train_error",
          "error": 0.22366666666666668
         },
         {
          "C_value": 0.0001,
          "Data": "train_error",
          "error": 0.22366666666666668
         },
         {
          "C_value": 0.001,
          "Data": "train_error",
          "error": 0.22366666666666668
         },
         {
          "C_value": 0.01,
          "Data": "train_error",
          "error": 0.22366666666666668
         },
         {
          "C_value": 0.1,
          "Data": "train_error",
          "error": 0.22366666666666668
         },
         {
          "C_value": 1,
          "Data": "train_error",
          "error": 0.22366666666666668
         },
         {
          "C_value": 10,
          "Data": "train_error",
          "error": 0.22366666666666668
         },
         {
          "C_value": 100,
          "Data": "train_error",
          "error": 0.22366666666666668
         },
         {
          "C_value": 1000,
          "Data": "train_error",
          "error": 0.22366666666666668
         },
         {
          "C_value": 10000,
          "Data": "train_error",
          "error": 0.22366666666666668
         },
         {
          "C_value": 1e-05,
          "Data": "valid_error",
          "error": 0.22299999999999998
         },
         {
          "C_value": 0.0001,
          "Data": "valid_error",
          "error": 0.22299999999999998
         },
         {
          "C_value": 0.001,
          "Data": "valid_error",
          "error": 0.22299999999999998
         },
         {
          "C_value": 0.01,
          "Data": "valid_error",
          "error": 0.22299999999999998
         },
         {
          "C_value": 0.1,
          "Data": "valid_error",
          "error": 0.22299999999999998
         },
         {
          "C_value": 1,
          "Data": "valid_error",
          "error": 0.22299999999999998
         },
         {
          "C_value": 10,
          "Data": "valid_error",
          "error": 0.22299999999999998
         },
         {
          "C_value": 100,
          "Data": "valid_error",
          "error": 0.22299999999999998
         },
         {
          "C_value": 1000,
          "Data": "valid_error",
          "error": 0.22299999999999998
         },
         {
          "C_value": 10000,
          "Data": "valid_error",
          "error": 0.22299999999999998
         }
        ]
       },
       "encoding": {
        "color": {
         "field": "Data",
         "type": "nominal"
        },
        "x": {
         "field": "C_value",
         "type": "quantitative"
        },
        "y": {
         "field": "error",
         "type": "quantitative"
        }
       },
       "height": 300,
       "mark": "line",
       "title": "Accuracy vs C_value",
       "width": 300
      },
      "image/png": "[encoded data removed]",
      "text/plain": [
       "<VegaLite 3 object>\n",
       "\n",
       "If you see this message, it means the renderer has not been properly enabled\n",
       "for the frontend that you are using. For more information, see\n",
       "https://altair-viz.github.io/user_guide/troubleshooting.html\n"
      ]
     },
     "execution_count": 64,
     "metadata": {},
     "output_type": "execute_result"
    }
   ],
   "source": [
    "# calculation loop\n",
    "\n",
    "C_dict = {'C_value':[], 'train_error':[], 'valid_error': []}\n",
    "for c in 10.0**np.arange(-5,5):\n",
    "    model = LogisticRegression(C = c, random_state=1 , max_iter = 10000).fit(X_train, y_train)  \n",
    "    C_dict['C_value'].append(c)    \n",
    "    C_dict['train_error'].append(1 - model.score(X_train, y_train))\n",
    "    C_dict['valid_error'].append(1 - model.score(X_valid, y_valid))\n",
    "C_dict_df = pd.DataFrame(C_dict)\n",
    "C_dict_df = C_dict_df.melt(id_vars='C_value',\n",
    "                                 value_name='error',\n",
    "                                 var_name='Data') # melt datadframe to work with altair\n",
    "\n",
    "\n",
    "# plot\n",
    "alt.Chart(C_dict_df).mark_line().encode(\n",
    "    x=\"C_value\",\n",
    "    y=\"error\",\n",
    "    color='Data'\n",
    ").properties(\n",
    "    title='Accuracy vs C_value'\n",
    ").properties(\n",
    "    width=300,\n",
    "    height=300\n",
    ").configure_title(\n",
    "    fontSize=20\n",
    ").configure_axis(\n",
    "    labelFontSize=20,\n",
    "    titleFontSize=20\n",
    ").configure_legend(\n",
    "    titleFontSize=20,\n",
    "    labelFontSize=20\n",
    ")"
   ]
  },
  {
   "cell_type": "code",
   "execution_count": 65,
   "metadata": {},
   "outputs": [
    {
     "name": "stdout",
     "output_type": "stream",
     "text": [
      "The lowest validation error is 0.22299999999999998\n"
     ]
    }
   ],
   "source": [
    "print('The lowest validation error is', 1-model.score(X_valid, y_valid))"
   ]
  },
  {
   "cell_type": "markdown",
   "metadata": {},
   "source": [
    "#### I will try other metrics "
   ]
  },
  {
   "cell_type": "code",
   "execution_count": 66,
   "metadata": {},
   "outputs": [
    {
     "data": {
      "application/vnd.vegalite.v3+json": {
       "$schema": "https://vega.github.io/schema/vega-lite/v3.4.0.json",
       "config": {
        "axis": {
         "labelFontSize": 20,
         "titleFontSize": 20
        },
        "legend": {
         "labelFontSize": 20,
         "titleFontSize": 20
        },
        "mark": {
         "tooltip": null
        },
        "title": {
         "fontSize": 20
        },
        "view": {
         "height": 300,
         "width": 400
        }
       },
       "data": {
        "name": "data-c585f4e5a75ba41864ab7ea85b063a16"
       },
       "datasets": {
        "data-c585f4e5a75ba41864ab7ea85b063a16": [
         {
          "C_value": 1e-05,
          "Data": "f1_score_train",
          "f1_score": 0
         },
         {
          "C_value": 0.0001,
          "Data": "f1_score_train",
          "f1_score": 0
         },
         {
          "C_value": 0.001,
          "Data": "f1_score_train",
          "f1_score": 0
         },
         {
          "C_value": 0.01,
          "Data": "f1_score_train",
          "f1_score": 0
         },
         {
          "C_value": 0.1,
          "Data": "f1_score_train",
          "f1_score": 0
         },
         {
          "C_value": 1,
          "Data": "f1_score_train",
          "f1_score": 0
         },
         {
          "C_value": 10,
          "Data": "f1_score_train",
          "f1_score": 0
         },
         {
          "C_value": 100,
          "Data": "f1_score_train",
          "f1_score": 0
         },
         {
          "C_value": 1000,
          "Data": "f1_score_train",
          "f1_score": 0
         },
         {
          "C_value": 10000,
          "Data": "f1_score_train",
          "f1_score": 0
         },
         {
          "C_value": 1e-05,
          "Data": "f1_score_valid",
          "f1_score": 0
         },
         {
          "C_value": 0.0001,
          "Data": "f1_score_valid",
          "f1_score": 0
         },
         {
          "C_value": 0.001,
          "Data": "f1_score_valid",
          "f1_score": 0
         },
         {
          "C_value": 0.01,
          "Data": "f1_score_valid",
          "f1_score": 0
         },
         {
          "C_value": 0.1,
          "Data": "f1_score_valid",
          "f1_score": 0
         },
         {
          "C_value": 1,
          "Data": "f1_score_valid",
          "f1_score": 0
         },
         {
          "C_value": 10,
          "Data": "f1_score_valid",
          "f1_score": 0
         },
         {
          "C_value": 100,
          "Data": "f1_score_valid",
          "f1_score": 0
         },
         {
          "C_value": 1000,
          "Data": "f1_score_valid",
          "f1_score": 0
         },
         {
          "C_value": 10000,
          "Data": "f1_score_valid",
          "f1_score": 0
         }
        ]
       },
       "encoding": {
        "color": {
         "field": "Data",
         "type": "nominal"
        },
        "x": {
         "field": "C_value",
         "type": "quantitative"
        },
        "y": {
         "field": "f1_score",
         "type": "quantitative"
        }
       },
       "height": 300,
       "mark": "line",
       "title": "f1_score vs C_value",
       "width": 300
      },
      "image/png": "[encoded data removed]",
      "text/plain": [
       "<VegaLite 3 object>\n",
       "\n",
       "If you see this message, it means the renderer has not been properly enabled\n",
       "for the frontend that you are using. For more information, see\n",
       "https://altair-viz.github.io/user_guide/troubleshooting.html\n"
      ]
     },
     "execution_count": 66,
     "metadata": {},
     "output_type": "execute_result"
    }
   ],
   "source": [
    "# Try F1 score\n",
    "\n",
    "C_dict = {'C_value':[], 'f1_score_train':[], 'f1_score_valid': []}\n",
    "for c in 10.0**np.arange(-5,5):\n",
    "    \n",
    "    model = LogisticRegression(C = c, random_state=1 , max_iter = 10000).fit(X_train, y_train)  \n",
    "    C_dict['C_value'].append(c) \n",
    "    y_train_pred = model.predict(X_train)\n",
    "    y_valid_pred = model.predict(X_valid)\n",
    "    C_dict['f1_score_train'].append(f1_score(y_train, y_train_pred))\n",
    "    C_dict['f1_score_valid'].append(f1_score(y_valid, y_valid_pred))\n",
    "C_dict_df = pd.DataFrame(C_dict)\n",
    "C_dict_df = C_dict_df.melt(id_vars='C_value',\n",
    "                                 value_name='f1_score',\n",
    "                                 var_name='Data') # melt datadframe to work with altair\n",
    "\n",
    "\n",
    "# plot\n",
    "alt.Chart(C_dict_df).mark_line().encode(\n",
    "    x=\"C_value\",\n",
    "    y=\"f1_score\",\n",
    "    color='Data'\n",
    ").properties(\n",
    "    title='f1_score vs C_value'\n",
    ").properties(\n",
    "    width=300,\n",
    "    height=300\n",
    ").configure_title(\n",
    "    fontSize=20\n",
    ").configure_axis(\n",
    "    labelFontSize=20,\n",
    "    titleFontSize=20\n",
    ").configure_legend(\n",
    "    titleFontSize=20,\n",
    "    labelFontSize=20\n",
    ")"
   ]
  },
  {
   "cell_type": "code",
   "execution_count": 67,
   "metadata": {},
   "outputs": [
    {
     "name": "stderr",
     "output_type": "stream",
     "text": [
      "/Users/tonyhuang/opt/anaconda3/lib/python3.7/site-packages/sklearn/metrics/_classification.py:1272: UndefinedMetricWarning: Precision and F-score are ill-defined and being set to 0.0 in labels with no predicted samples. Use `zero_division` parameter to control this behavior.\n",
      "  _warn_prf(average, modifier, msg_start, len(result))\n"
     ]
    },
    {
     "name": "stdout",
     "output_type": "stream",
     "text": [
      "              precision    recall  f1-score   support\n",
      "\n",
      "           0       0.78      1.00      0.87      4662\n",
      "           1       0.00      0.00      0.00      1338\n",
      "\n",
      "    accuracy                           0.78      6000\n",
      "   macro avg       0.39      0.50      0.44      6000\n",
      "weighted avg       0.60      0.78      0.68      6000\n",
      "\n"
     ]
    },
    {
     "data": {
      "image/png": "[encoded data removed]",
      "text/plain": [
       "<Figure size 432x288 with 2 Axes>"
      ]
     },
     "metadata": {
      "needs_background": "light"
     },
     "output_type": "display_data"
    }
   ],
   "source": [
    "# try generating a confusion matrix with C = 1\n",
    "\n",
    "model = LogisticRegression(C = 1, random_state=1 , max_iter = 10000).fit(X_train, y_train)  \n",
    "display_confusion_matrix_classification_report(model, X_valid, y_valid, \n",
    "                                               labels=['Non default', 'Default'])"
   ]
  },
  {
   "cell_type": "markdown",
   "metadata": {},
   "source": [
    "Because the model always predicts Non-default, even we use `f1 score` as the metric, the f1_score for predicting default is 0. The logistic regression is doing nothing different from Dummy Classifier."
   ]
  },
  {
   "cell_type": "markdown",
   "metadata": {},
   "source": [
    "### (5) Feature transformations\n"
   ]
  },
  {
   "cell_type": "code",
   "execution_count": 68,
   "metadata": {},
   "outputs": [
    {
     "data": {
      "text/plain": [
       "Index(['LIMIT_BAL', 'SEX', 'EDUCATION', 'MARRIAGE', 'AGE', 'PAY_0', 'PAY_2',\n",
       "       'PAY_3', 'PAY_4', 'PAY_5', 'PAY_6', 'BILL_AMT1', 'BILL_AMT2',\n",
       "       'BILL_AMT3', 'BILL_AMT4', 'BILL_AMT5', 'BILL_AMT6', 'PAY_AMT1',\n",
       "       'PAY_AMT2', 'PAY_AMT3', 'PAY_AMT4', 'PAY_AMT5', 'PAY_AMT6'],\n",
       "      dtype='object')"
      ]
     },
     "execution_count": 68,
     "metadata": {},
     "output_type": "execute_result"
    }
   ],
   "source": [
    "\n",
    "X_train.columns"
   ]
  },
  {
   "cell_type": "code",
   "execution_count": 69,
   "metadata": {},
   "outputs": [],
   "source": [
    "# Split the features into numeric features and categorical features\n",
    "numeric_features = ['LIMIT_BAL','AGE', 'PAY_0', 'PAY_2',\n",
    "       'PAY_3', 'PAY_4', 'PAY_5', 'PAY_6', 'BILL_AMT1', 'BILL_AMT2',\n",
    "       'BILL_AMT3', 'BILL_AMT4', 'BILL_AMT5', 'BILL_AMT6', 'PAY_AMT1',\n",
    "       'PAY_AMT2', 'PAY_AMT3', 'PAY_AMT4', 'PAY_AMT5', 'PAY_AMT6']\n",
    "categorical_features = ['SEX','EDUCATION','MARRIAGE']"
   ]
  },
  {
   "cell_type": "code",
   "execution_count": 70,
   "metadata": {},
   "outputs": [],
   "source": [
    "# Create the transformer\n",
    "preprocessor = ColumnTransformer(\n",
    "    transformers=[\n",
    "        ('scale', StandardScaler(), numeric_features),\n",
    "        ('ohe', OneHotEncoder(drop=\"first\"), categorical_features)])"
   ]
  },
  {
   "cell_type": "code",
   "execution_count": 71,
   "metadata": {},
   "outputs": [],
   "source": [
    "# Apply data transformations and convert back to dataframe\n",
    "\n",
    "X_train = pd.DataFrame(preprocessor.fit_transform(X_train),\n",
    "                       index=X_train.index,\n",
    "                       columns=(numeric_features +\n",
    "                                list(preprocessor.named_transformers_['ohe'].get_feature_names(categorical_features))))\n",
    "\n",
    "X_valid = pd.DataFrame(preprocessor.transform(X_valid),\n",
    "                      index=X_valid.index,\n",
    "                      columns=X_train.columns)\n",
    "\n",
    "X_trainvalid = pd.DataFrame(preprocessor.transform(X_trainvalid),\n",
    "                      index=X_trainvalid.index,\n",
    "                      columns=X_train.columns)\n",
    "\n",
    "\n",
    "X_test = pd.DataFrame(preprocessor.transform(X_test),\n",
    "                      index=X_test.index,\n",
    "                      columns=X_train.columns)\n",
    "\n",
    "\n"
   ]
  },
  {
   "cell_type": "code",
   "execution_count": 72,
   "metadata": {},
   "outputs": [
    {
     "name": "stdout",
     "output_type": "stream",
     "text": [
      "              precision    recall  f1-score   support\n",
      "\n",
      "           0       0.82      0.97      0.89      4662\n",
      "           1       0.69      0.26      0.37      1338\n",
      "\n",
      "    accuracy                           0.81      6000\n",
      "   macro avg       0.75      0.61      0.63      6000\n",
      "weighted avg       0.79      0.81      0.77      6000\n",
      "\n"
     ]
    },
    {
     "data": {
      "image/png": "[encoded data removed]",
      "text/plain": [
       "<Figure size 432x288 with 2 Axes>"
      ]
     },
     "metadata": {
      "needs_background": "light"
     },
     "output_type": "display_data"
    }
   ],
   "source": [
    "# try logistic regression using new dataset\n",
    "\n",
    "model = LogisticRegression(C = 1, random_state=1 , max_iter = 10000).fit(X_train, y_train)  \n",
    "display_confusion_matrix_classification_report(model, X_valid, y_valid, \n",
    "                                               labels=['Non default', 'Default'])"
   ]
  },
  {
   "cell_type": "markdown",
   "metadata": {},
   "source": [
    "Yes, features transformations improves my result. For predicting default, the `f1_score` went from 0.0 to 0.37, the accuracy went from 0.77 to 0.81."
   ]
  },
  {
   "cell_type": "markdown",
   "metadata": {},
   "source": [
    "### (6) Different classifiers\n"
   ]
  },
  {
   "cell_type": "code",
   "execution_count": 73,
   "metadata": {},
   "outputs": [
    {
     "name": "stdout",
     "output_type": "stream",
     "text": [
      "Fitting logistic_regression\n",
      "Fitting random forest\n",
      "Fitting lgbm\n",
      "Fitting sklearn NN\n"
     ]
    },
    {
     "data": {
      "text/html": [
       "<div>\n",
       "<style scoped>\n",
       "    .dataframe tbody tr th:only-of-type {\n",
       "        vertical-align: middle;\n",
       "    }\n",
       "\n",
       "    .dataframe tbody tr th {\n",
       "        vertical-align: top;\n",
       "    }\n",
       "\n",
       "    .dataframe thead th {\n",
       "        text-align: right;\n",
       "    }\n",
       "</style>\n",
       "<table border=\"1\" class=\"dataframe\">\n",
       "  <thead>\n",
       "    <tr style=\"text-align: right;\">\n",
       "      <th></th>\n",
       "      <th>train accuracy</th>\n",
       "      <th>valid accuracy</th>\n",
       "      <th>training time (s)</th>\n",
       "      <th>train f1 score</th>\n",
       "      <th>valid f1 score</th>\n",
       "    </tr>\n",
       "  </thead>\n",
       "  <tbody>\n",
       "    <tr>\n",
       "      <td>logistic_regression</td>\n",
       "      <td>0.809278</td>\n",
       "      <td>0.808333</td>\n",
       "      <td>0.369830</td>\n",
       "      <td>0.368353</td>\n",
       "      <td>0.374320</td>\n",
       "    </tr>\n",
       "    <tr>\n",
       "      <td>random forest</td>\n",
       "      <td>0.999556</td>\n",
       "      <td>0.810333</td>\n",
       "      <td>5.226644</td>\n",
       "      <td>0.999005</td>\n",
       "      <td>0.467228</td>\n",
       "    </tr>\n",
       "    <tr>\n",
       "      <td>lgbm</td>\n",
       "      <td>0.847556</td>\n",
       "      <td>0.817667</td>\n",
       "      <td>0.343927</td>\n",
       "      <td>0.564168</td>\n",
       "      <td>0.481025</td>\n",
       "    </tr>\n",
       "    <tr>\n",
       "      <td>sklearn NN</td>\n",
       "      <td>0.841444</td>\n",
       "      <td>0.808000</td>\n",
       "      <td>22.747587</td>\n",
       "      <td>0.552384</td>\n",
       "      <td>0.456604</td>\n",
       "    </tr>\n",
       "  </tbody>\n",
       "</table>\n",
       "</div>"
      ],
      "text/plain": [
       "                     train accuracy  valid accuracy  training time (s)  \\\n",
       "logistic_regression        0.809278        0.808333           0.369830   \n",
       "random forest              0.999556        0.810333           5.226644   \n",
       "lgbm                       0.847556        0.817667           0.343927   \n",
       "sklearn NN                 0.841444        0.808000          22.747587   \n",
       "\n",
       "                     train f1 score  valid f1 score  \n",
       "logistic_regression        0.368353        0.374320  \n",
       "random forest              0.999005        0.467228  \n",
       "lgbm                       0.564168        0.481025  \n",
       "sklearn NN                 0.552384        0.456604  "
      ]
     },
     "execution_count": 73,
     "metadata": {},
     "output_type": "execute_result"
    }
   ],
   "source": [
    "classifiers = {\n",
    "    'logistic_regression' :LogisticRegression(max_iter = 10000),\n",
    "    'random forest' : RandomForestClassifier(),\n",
    "    'lgbm'           : LGBMClassifier(),\n",
    "    'sklearn NN'    : MLPClassifier(max_iter = 1000)\n",
    "}\n",
    "\n",
    "train_scores = dict()\n",
    "valid_scores = dict()\n",
    "training_times = dict()\n",
    "train_f1 = dict()\n",
    "valid_f1 = dict()\n",
    "\n",
    "for classifier_name, classifier_obj in classifiers.items():\n",
    "    print(\"Fitting\", classifier_name)\n",
    "    t = time.time()\n",
    "    classifier_obj.fit(X_train, y_train.to_numpy().ravel())\n",
    "    \n",
    "    train_predict = classifier_obj.predict(X_train)\n",
    "    valid_predict = classifier_obj.predict(X_valid)\n",
    "    \n",
    "    training_times[classifier_name] = time.time() - t\n",
    "    train_scores[classifier_name] = classifier_obj.score(X_train, y_train)\n",
    "    valid_scores[classifier_name] = classifier_obj.score(X_valid, y_valid)\n",
    "    \n",
    "    train_f1[classifier_name] = f1_score(y_train, train_predict)\n",
    "    valid_f1[classifier_name] = f1_score(y_valid, valid_predict)\n",
    "\n",
    "data = {\"train accuracy\": train_scores, \"valid accuracy\" : valid_scores, \"training time (s)\" : training_times, \"train f1 score\": train_f1, \"valid f1 score\": valid_f1}\n",
    "df_6 = pd.DataFrame(data, columns=data.keys())\n",
    "df_6.index = list(classifiers.keys())\n",
    "df_6"
   ]
  },
  {
   "cell_type": "markdown",
   "metadata": {},
   "source": [
    "### (7) Hyperparameter optimization\n"
   ]
  },
  {
   "cell_type": "code",
   "execution_count": 74,
   "metadata": {},
   "outputs": [],
   "source": [
    "def show_results(model,Xr,yt,Xv,yv,labels=['Non default', 'Default']):\n",
    "    \"\"\"\n",
    "    after fitting the model, print the training error, validation error and print a confusion matrix\n",
    "    \"\"\"\n",
    "    print('The training accuracy',model.score(Xr,yt))\n",
    "    print('The validation accuracy',model.score(Xv,yv))\n",
    "    print('The validation f1 score', f1_score(yv, model.predict(Xv)))\n",
    "    display_confusion_matrix_classification_report(model, Xv, yv, \n",
    "                                               labels=['Non default', 'Default'])\n",
    "    "
   ]
  },
  {
   "cell_type": "code",
   "execution_count": 75,
   "metadata": {},
   "outputs": [],
   "source": [
    "\n",
    "n_estimators = [5,10,20,30,40,50]\n",
    "\n",
    "max_depth = [int(x) for x in np.arange(1,10)]\n",
    "\n",
    "random_grid = {'n_estimators': n_estimators,\n",
    "               'max_depth': max_depth}\n"
   ]
  },
  {
   "cell_type": "code",
   "execution_count": 76,
   "metadata": {},
   "outputs": [
    {
     "name": "stdout",
     "output_type": "stream",
     "text": [
      "{'n_estimators': 50, 'max_depth': 8}\n",
      "The training accuracy 0.8416111111111111\n",
      "The validation accuracy 0.8115\n",
      "The validation f1 score 0.457033125300048\n",
      "              precision    recall  f1-score   support\n",
      "\n",
      "           0       0.84      0.94      0.89      4662\n",
      "           1       0.64      0.36      0.46      1338\n",
      "\n",
      "    accuracy                           0.81      6000\n",
      "   macro avg       0.74      0.65      0.67      6000\n",
      "weighted avg       0.79      0.81      0.79      6000\n",
      "\n"
     ]
    },
    {
     "data": {
      "image/png": "[encoded data removed]",
      "text/plain": [
       "<Figure size 432x288 with 2 Axes>"
      ]
     },
     "metadata": {
      "needs_background": "light"
     },
     "output_type": "display_data"
    }
   ],
   "source": [
    "# doing the search again using f1 as the scoring\n",
    "\n",
    "rf = RandomForestClassifier()\n",
    "\n",
    "rsc = RandomizedSearchCV(estimator = rf, param_distributions = random_grid, n_iter = 40, cv = 5,random_state=42,scoring = 'f1')\n",
    "rsc.fit(X_train, y_train) \n",
    "print(rsc.best_params_)\n",
    "best_rf = rsc.best_estimator_\n",
    "show_results(best_rf,X_train, y_train,X_valid, y_valid)"
   ]
  },
  {
   "cell_type": "code",
   "execution_count": 77,
   "metadata": {},
   "outputs": [],
   "source": [
    "# For LGBM\n",
    "# the parameters for LGBM\n",
    "\n",
    "param_lgbm ={\n",
    "             'reg_alpha': [0, 1e-1, 1, 2, 5]}"
   ]
  },
  {
   "cell_type": "code",
   "execution_count": 78,
   "metadata": {},
   "outputs": [
    {
     "name": "stdout",
     "output_type": "stream",
     "text": [
      "{'reg_alpha': 2}\n",
      "The training accuracy 0.8443888888888889\n",
      "The validation accuracy 0.8145\n",
      "The validation f1 score 0.47025226082817706\n",
      "              precision    recall  f1-score   support\n",
      "\n",
      "           0       0.84      0.94      0.89      4662\n",
      "           1       0.65      0.37      0.47      1338\n",
      "\n",
      "    accuracy                           0.81      6000\n",
      "   macro avg       0.74      0.66      0.68      6000\n",
      "weighted avg       0.80      0.81      0.79      6000\n",
      "\n"
     ]
    },
    {
     "data": {
      "image/png": "[encoded data removed]",
      "text/plain": [
       "<Figure size 432x288 with 2 Axes>"
      ]
     },
     "metadata": {
      "needs_background": "light"
     },
     "output_type": "display_data"
    }
   ],
   "source": [
    "# doing the grid search for LGBM \n",
    "\n",
    "lgc = LGBMClassifier()\n",
    "\n",
    "gsc_lgc = GridSearchCV(estimator = lgc, param_grid = param_lgbm, cv = 5,scoring = 'f1')\n",
    "gsc_lgc.fit(X_train, y_train) \n",
    "print(gsc_lgc.best_params_)\n",
    "best_lgc = gsc_lgc.best_estimator_\n",
    "show_results(best_lgc,X_train, y_train,X_valid, y_valid)"
   ]
  },
  {
   "cell_type": "code",
   "execution_count": 79,
   "metadata": {},
   "outputs": [],
   "source": [
    "# For SKNN\n",
    "\n",
    "# Tune the parameters for SKNN\n",
    "\n",
    "parameter_space = {\n",
    "    'alpha': [0.0001, 0.05]\n",
    "}"
   ]
  },
  {
   "cell_type": "code",
   "execution_count": 80,
   "metadata": {},
   "outputs": [
    {
     "name": "stdout",
     "output_type": "stream",
     "text": [
      "{'alpha': 0.05}\n",
      "The training accuracy 0.8291666666666667\n",
      "The validation accuracy 0.8065\n",
      "The validation f1 score 0.3975090814737935\n",
      "              precision    recall  f1-score   support\n",
      "\n",
      "           0       0.82      0.96      0.88      4662\n",
      "           1       0.65      0.29      0.40      1338\n",
      "\n",
      "    accuracy                           0.81      6000\n",
      "   macro avg       0.74      0.62      0.64      6000\n",
      "weighted avg       0.78      0.81      0.78      6000\n",
      "\n"
     ]
    },
    {
     "data": {
      "image/png": "[encoded data removed]",
      "text/plain": [
       "<Figure size 432x288 with 2 Axes>"
      ]
     },
     "metadata": {
      "needs_background": "light"
     },
     "output_type": "display_data"
    }
   ],
   "source": [
    "# doing the grid search for MLP\n",
    "\n",
    "mlp = MLPClassifier(max_iter = 1000)\n",
    "\n",
    "gsc_mlp = GridSearchCV(estimator = mlp, param_grid = parameter_space, cv = 3,scoring = 'f1')\n",
    "gsc_mlp.fit(X_train, y_train)\n",
    "print(gsc_mlp.best_params_)\n",
    "best_mlp = gsc_mlp.best_estimator_\n",
    "show_results(best_mlp,X_train, y_train,X_valid, y_valid)"
   ]
  },
  {
   "cell_type": "markdown",
   "metadata": {},
   "source": [
    "### (8) Feature selection\n"
   ]
  },
  {
   "cell_type": "code",
   "execution_count": 81,
   "metadata": {},
   "outputs": [
    {
     "data": {
      "text/plain": [
       "30"
      ]
     },
     "execution_count": 81,
     "metadata": {},
     "output_type": "execute_result"
    }
   ],
   "source": [
    "# see how many features we have\n",
    "\n",
    "len(X_train.columns)"
   ]
  },
  {
   "cell_type": "code",
   "execution_count": 82,
   "metadata": {},
   "outputs": [
    {
     "data": {
      "application/vnd.vegalite.v3+json": {
       "$schema": "https://vega.github.io/schema/vega-lite/v3.4.0.json",
       "config": {
        "axisX": {
         "labelAngle": 0
        },
        "mark": {
         "tooltip": null
        },
        "scale": {
         "round": true
        },
        "view": {
         "height": 300,
         "width": 400
        }
       },
       "data": {
        "name": "data-0f5cf26878c25371cc0dbaa1439c6ffa"
       },
       "datasets": {
        "data-0f5cf26878c25371cc0dbaa1439c6ffa": [
         {
          "error_type": "Train_acc",
          "n_features_to_select": 1,
          "value": 0.7764444444444445
         },
         {
          "error_type": "Train_acc",
          "n_features_to_select": 2,
          "value": 0.818
         },
         {
          "error_type": "Train_acc",
          "n_features_to_select": 3,
          "value": 0.818
         },
         {
          "error_type": "Train_acc",
          "n_features_to_select": 4,
          "value": 0.818
         },
         {
          "error_type": "Train_acc",
          "n_features_to_select": 5,
          "value": 0.8181666666666667
         },
         {
          "error_type": "Train_acc",
          "n_features_to_select": 6,
          "value": 0.8122777777777778
         },
         {
          "error_type": "Train_acc",
          "n_features_to_select": 7,
          "value": 0.8123333333333334
         },
         {
          "error_type": "Train_acc",
          "n_features_to_select": 8,
          "value": 0.8123888888888889
         },
         {
          "error_type": "Train_acc",
          "n_features_to_select": 9,
          "value": 0.8131111111111111
         },
         {
          "error_type": "Train_acc",
          "n_features_to_select": 10,
          "value": 0.8113333333333334
         },
         {
          "error_type": "Train_acc",
          "n_features_to_select": 11,
          "value": 0.8119444444444445
         },
         {
          "error_type": "Train_acc",
          "n_features_to_select": 12,
          "value": 0.8116666666666666
         },
         {
          "error_type": "Train_acc",
          "n_features_to_select": 13,
          "value": 0.8116666666666666
         },
         {
          "error_type": "Train_acc",
          "n_features_to_select": 14,
          "value": 0.8071666666666667
         },
         {
          "error_type": "Train_acc",
          "n_features_to_select": 15,
          "value": 0.8081111111111111
         },
         {
          "error_type": "Train_acc",
          "n_features_to_select": 16,
          "value": 0.809
         },
         {
          "error_type": "Train_acc",
          "n_features_to_select": 17,
          "value": 0.8090555555555555
         },
         {
          "error_type": "Train_acc",
          "n_features_to_select": 18,
          "value": 0.8097777777777778
         },
         {
          "error_type": "Train_acc",
          "n_features_to_select": 19,
          "value": 0.8097777777777778
         },
         {
          "error_type": "Train_acc",
          "n_features_to_select": 20,
          "value": 0.8095555555555556
         },
         {
          "error_type": "Train_acc",
          "n_features_to_select": 21,
          "value": 0.8094444444444444
         },
         {
          "error_type": "Train_acc",
          "n_features_to_select": 22,
          "value": 0.8093333333333333
         },
         {
          "error_type": "Train_acc",
          "n_features_to_select": 23,
          "value": 0.8096666666666666
         },
         {
          "error_type": "Train_acc",
          "n_features_to_select": 24,
          "value": 0.8091666666666667
         },
         {
          "error_type": "Train_acc",
          "n_features_to_select": 25,
          "value": 0.8095
         },
         {
          "error_type": "Train_acc",
          "n_features_to_select": 26,
          "value": 0.8093888888888889
         },
         {
          "error_type": "Train_acc",
          "n_features_to_select": 27,
          "value": 0.8091111111111111
         },
         {
          "error_type": "Train_acc",
          "n_features_to_select": 28,
          "value": 0.8092777777777778
         },
         {
          "error_type": "Train_acc",
          "n_features_to_select": 29,
          "value": 0.8092777777777778
         },
         {
          "error_type": "Valid_acc",
          "n_features_to_select": 1,
          "value": 0.777
         },
         {
          "error_type": "Valid_acc",
          "n_features_to_select": 2,
          "value": 0.8165
         },
         {
          "error_type": "Valid_acc",
          "n_features_to_select": 3,
          "value": 0.8165
         },
         {
          "error_type": "Valid_acc",
          "n_features_to_select": 4,
          "value": 0.8165
         },
         {
          "error_type": "Valid_acc",
          "n_features_to_select": 5,
          "value": 0.8168333333333333
         },
         {
          "error_type": "Valid_acc",
          "n_features_to_select": 6,
          "value": 0.8113333333333334
         },
         {
          "error_type": "Valid_acc",
          "n_features_to_select": 7,
          "value": 0.8113333333333334
         },
         {
          "error_type": "Valid_acc",
          "n_features_to_select": 8,
          "value": 0.8115
         },
         {
          "error_type": "Valid_acc",
          "n_features_to_select": 9,
          "value": 0.8123333333333334
         },
         {
          "error_type": "Valid_acc",
          "n_features_to_select": 10,
          "value": 0.8108333333333333
         },
         {
          "error_type": "Valid_acc",
          "n_features_to_select": 11,
          "value": 0.8106666666666666
         },
         {
          "error_type": "Valid_acc",
          "n_features_to_select": 12,
          "value": 0.8111666666666667
         },
         {
          "error_type": "Valid_acc",
          "n_features_to_select": 13,
          "value": 0.8111666666666667
         },
         {
          "error_type": "Valid_acc",
          "n_features_to_select": 14,
          "value": 0.808
         },
         {
          "error_type": "Valid_acc",
          "n_features_to_select": 15,
          "value": 0.8091666666666667
         },
         {
          "error_type": "Valid_acc",
          "n_features_to_select": 16,
          "value": 0.8093333333333333
         },
         {
          "error_type": "Valid_acc",
          "n_features_to_select": 17,
          "value": 0.8095
         },
         {
          "error_type": "Valid_acc",
          "n_features_to_select": 18,
          "value": 0.8076666666666666
         },
         {
          "error_type": "Valid_acc",
          "n_features_to_select": 19,
          "value": 0.8076666666666666
         },
         {
          "error_type": "Valid_acc",
          "n_features_to_select": 20,
          "value": 0.8076666666666666
         },
         {
          "error_type": "Valid_acc",
          "n_features_to_select": 21,
          "value": 0.807
         },
         {
          "error_type": "Valid_acc",
          "n_features_to_select": 22,
          "value": 0.8078333333333333
         },
         {
          "error_type": "Valid_acc",
          "n_features_to_select": 23,
          "value": 0.8073333333333333
         },
         {
          "error_type": "Valid_acc",
          "n_features_to_select": 24,
          "value": 0.8078333333333333
         },
         {
          "error_type": "Valid_acc",
          "n_features_to_select": 25,
          "value": 0.8075
         },
         {
          "error_type": "Valid_acc",
          "n_features_to_select": 26,
          "value": 0.808
         },
         {
          "error_type": "Valid_acc",
          "n_features_to_select": 27,
          "value": 0.8083333333333333
         },
         {
          "error_type": "Valid_acc",
          "n_features_to_select": 28,
          "value": 0.8083333333333333
         },
         {
          "error_type": "Valid_acc",
          "n_features_to_select": 29,
          "value": 0.8083333333333333
         },
         {
          "error_type": "f1_score",
          "n_features_to_select": 1,
          "value": 0
         },
         {
          "error_type": "f1_score",
          "n_features_to_select": 2,
          "value": 0.44645550527903477
         },
         {
          "error_type": "f1_score",
          "n_features_to_select": 3,
          "value": 0.44645550527903477
         },
         {
          "error_type": "f1_score",
          "n_features_to_select": 4,
          "value": 0.44645550527903477
         },
         {
          "error_type": "f1_score",
          "n_features_to_select": 5,
          "value": 0.44690488173125315
         },
         {
          "error_type": "f1_score",
          "n_features_to_select": 6,
          "value": 0.4079497907949791
         },
         {
          "error_type": "f1_score",
          "n_features_to_select": 7,
          "value": 0.4079497907949791
         },
         {
          "error_type": "f1_score",
          "n_features_to_select": 8,
          "value": 0.4081632653061224
         },
         {
          "error_type": "f1_score",
          "n_features_to_select": 9,
          "value": 0.40861344537815125
         },
         {
          "error_type": "f1_score",
          "n_features_to_select": 10,
          "value": 0.3953116675546084
         },
         {
          "error_type": "f1_score",
          "n_features_to_select": 11,
          "value": 0.3951011714589989
         },
         {
          "error_type": "f1_score",
          "n_features_to_select": 12,
          "value": 0.39830058417419006
         },
         {
          "error_type": "f1_score",
          "n_features_to_select": 13,
          "value": 0.39830058417419006
         },
         {
          "error_type": "f1_score",
          "n_features_to_select": 14,
          "value": 0.35857461024498893
         },
         {
          "error_type": "f1_score",
          "n_features_to_select": 15,
          "value": 0.3760217983651226
         },
         {
          "error_type": "f1_score",
          "n_features_to_select": 16,
          "value": 0.37486338797814206
         },
         {
          "error_type": "f1_score",
          "n_features_to_select": 17,
          "value": 0.3757509557618787
         },
         {
          "error_type": "f1_score",
          "n_features_to_select": 18,
          "value": 0.37145969498910675
         },
         {
          "error_type": "f1_score",
          "n_features_to_select": 19,
          "value": 0.37145969498910675
         },
         {
          "error_type": "f1_score",
          "n_features_to_select": 20,
          "value": 0.3728260869565217
         },
         {
          "error_type": "f1_score",
          "n_features_to_select": 21,
          "value": 0.3699673558215451
         },
         {
          "error_type": "f1_score",
          "n_features_to_select": 22,
          "value": 0.3723462166575939
         },
         {
          "error_type": "f1_score",
          "n_features_to_select": 23,
          "value": 0.3724212812160695
         },
         {
          "error_type": "f1_score",
          "n_features_to_select": 24,
          "value": 0.37302882001087545
         },
         {
          "error_type": "f1_score",
          "n_features_to_select": 25,
          "value": 0.3726235741444867
         },
         {
          "error_type": "f1_score",
          "n_features_to_select": 26,
          "value": 0.3745928338762215
         },
         {
          "error_type": "f1_score",
          "n_features_to_select": 27,
          "value": 0.3743199129488574
         },
         {
          "error_type": "f1_score",
          "n_features_to_select": 28,
          "value": 0.3743199129488574
         },
         {
          "error_type": "f1_score",
          "n_features_to_select": 29,
          "value": 0.3743199129488574
         }
        ]
       },
       "encoding": {
        "color": {
         "field": "error_type",
         "type": "nominal"
        },
        "x": {
         "field": "n_features_to_select",
         "type": "nominal"
        },
        "y": {
         "field": "value",
         "type": "quantitative"
        }
       },
       "mark": "line"
      },
      "image/png": "[encoded data removed]",
      "text/plain": [
       "<VegaLite 3 object>\n",
       "\n",
       "If you see this message, it means the renderer has not been properly enabled\n",
       "for the frontend that you are using. For more information, see\n",
       "https://altair-viz.github.io/user_guide/troubleshooting.html\n"
      ]
     },
     "execution_count": 82,
     "metadata": {},
     "output_type": "execute_result"
    }
   ],
   "source": [
    "df = pd.DataFrame(columns = ['n_features_to_select','Train_acc', 'Valid_acc','f1_score']) \n",
    "\n",
    "for n in range(1,30):\n",
    "    lr = LogisticRegression(max_iter = 10000)\n",
    "    rfe = RFE(estimator = lr, n_features_to_select = n)\n",
    "    rfe.fit(X_train, y_train)\n",
    "    X_train_sel = X_train.iloc[:, rfe.support_]\n",
    "    X_valid_sel = X_valid.iloc[:, rfe.support_]\n",
    "    lr.fit(X_train_sel,y_train)\n",
    "    train_acc = lr.score(X_train_sel,y_train)\n",
    "    valid_acc = lr.score(X_valid_sel,y_valid)\n",
    "    f1 = f1_score(y_valid, lr.predict(X_valid_sel))\n",
    "    df = df.append({'n_features_to_select':n, 'Train_acc':train_acc, 'Valid_acc':valid_acc,'f1_score':f1},ignore_index = True)\n",
    "\n",
    "df_melt = pd.melt(df, id_vars=['n_features_to_select'], value_vars=['Train_acc','Valid_acc','f1_score'],\n",
    "            var_name='error_type', value_name='value')\n",
    "\n",
    "\n",
    "alt.Chart(df_melt).mark_line().encode(\n",
    "    x='n_features_to_select:N',\n",
    "    y='value:Q',\n",
    "    color = 'error_type'\n",
    ").configure_scale(round = True).configure_axisX(labelAngle=0)\n"
   ]
  },
  {
   "cell_type": "code",
   "execution_count": 83,
   "metadata": {},
   "outputs": [
    {
     "name": "stdout",
     "output_type": "stream",
     "text": [
      "Two selected features are: Index(['PAY_0', 'EDUCATION_5'], dtype='object')\n"
     ]
    }
   ],
   "source": [
    "# See what features are important when selecting 2 features\n",
    "\n",
    "lr = LogisticRegression(max_iter = 10000)\n",
    "rfe = RFE(estimator = lr, n_features_to_select = 2)\n",
    "rfe.fit(X_train, y_train)\n",
    "X_train_sel = X_train.iloc[:, rfe.support_]\n",
    "print('Two selected features are:', X_train_sel.columns)"
   ]
  },
  {
   "cell_type": "code",
   "execution_count": 84,
   "metadata": {},
   "outputs": [
    {
     "name": "stdout",
     "output_type": "stream",
     "text": [
      "The training accuracy 0.818\n",
      "The validation accuracy 0.8165\n",
      "The validation f1 score 0.44645550527903477\n",
      "              precision    recall  f1-score   support\n",
      "\n",
      "           0       0.83      0.96      0.89      4662\n",
      "           1       0.68      0.33      0.45      1338\n",
      "\n",
      "    accuracy                           0.82      6000\n",
      "   macro avg       0.76      0.64      0.67      6000\n",
      "weighted avg       0.80      0.82      0.79      6000\n",
      "\n"
     ]
    },
    {
     "data": {
      "image/png": "[encoded data removed]",
      "text/plain": [
       "<Figure size 432x288 with 2 Axes>"
      ]
     },
     "metadata": {
      "needs_background": "light"
     },
     "output_type": "display_data"
    }
   ],
   "source": [
    "lr_sel = LogisticRegression(max_iter = 10000)\n",
    "rfe = RFE(estimator = lr, n_features_to_select = 2)\n",
    "rfe.fit(X_train, y_train)\n",
    "X_train_sel = X_train.iloc[:, rfe.support_]\n",
    "X_valid_sel = X_valid.iloc[:, rfe.support_]\n",
    "lr_sel.fit(X_train_sel,y_train)\n",
    "show_results(lr_sel,X_train_sel, y_train,X_valid_sel, y_valid)"
   ]
  },
  {
   "cell_type": "markdown",
   "metadata": {},
   "source": [
    "### (9) Interpretation and feature importance \n"
   ]
  },
  {
   "cell_type": "code",
   "execution_count": 86,
   "metadata": {},
   "outputs": [
    {
     "name": "stderr",
     "output_type": "stream",
     "text": [
      "/Users/tonyhuang/opt/anaconda3/lib/python3.7/site-packages/sklearn/utils/deprecation.py:144: FutureWarning: The sklearn.metrics.scorer module is  deprecated in version 0.22 and will be removed in version 0.24. The corresponding classes / functions should instead be imported from sklearn.metrics. Anything that cannot be imported from sklearn.metrics is now part of the private API.\n",
      "  warnings.warn(message, FutureWarning)\n",
      "/Users/tonyhuang/opt/anaconda3/lib/python3.7/site-packages/sklearn/utils/deprecation.py:144: FutureWarning: The sklearn.feature_selection.base module is  deprecated in version 0.22 and will be removed in version 0.24. The corresponding classes / functions should instead be imported from sklearn.feature_selection. Anything that cannot be imported from sklearn.feature_selection is now part of the private API.\n",
      "  warnings.warn(message, FutureWarning)\n",
      "Using TensorFlow backend.\n"
     ]
    }
   ],
   "source": [
    "import eli5"
   ]
  },
  {
   "cell_type": "code",
   "execution_count": 87,
   "metadata": {},
   "outputs": [
    {
     "data": {
      "text/html": [
       "\n",
       "    <style>\n",
       "    table.eli5-weights tr:hover {\n",
       "        filter: brightness(85%);\n",
       "    }\n",
       "</style>\n",
       "\n",
       "\n",
       "\n",
       "    \n",
       "\n",
       "    \n",
       "\n",
       "    \n",
       "\n",
       "    \n",
       "\n",
       "    \n",
       "\n",
       "    \n",
       "\n",
       "\n",
       "    \n",
       "\n",
       "    \n",
       "\n",
       "    \n",
       "\n",
       "    \n",
       "        \n",
       "\n",
       "    \n",
       "\n",
       "        \n",
       "            \n",
       "                \n",
       "                \n",
       "    \n",
       "        <p style=\"margin-bottom: 0.5em; margin-top: 0em\">\n",
       "            <b>\n",
       "    \n",
       "        y=1\n",
       "    \n",
       "</b>\n",
       "\n",
       "top features\n",
       "        </p>\n",
       "    \n",
       "    <table class=\"eli5-weights\"\n",
       "           style=\"border-collapse: collapse; border: none; margin-top: 0em; table-layout: auto; margin-bottom: 2em;\">\n",
       "        <thead>\n",
       "        <tr style=\"border: none;\">\n",
       "            \n",
       "                <th style=\"padding: 0 1em 0 0.5em; text-align: right; border: none;\" title=\"Feature weights. Note that weights do not account for feature value scales, so if feature values have different scales, features with highest weights might not be the most important.\">\n",
       "                    Weight<sup>?</sup>\n",
       "                </th>\n",
       "            \n",
       "            <th style=\"padding: 0 0.5em 0 0.5em; text-align: left; border: none;\">Feature</th>\n",
       "            \n",
       "        </tr>\n",
       "        </thead>\n",
       "        <tbody>\n",
       "        \n",
       "            <tr style=\"background-color: hsl(120, 100.00%, 88.61%); border: none;\">\n",
       "    <td style=\"padding: 0 1em 0 0.5em; text-align: right; border: none;\">\n",
       "        +0.825\n",
       "    </td>\n",
       "    <td style=\"padding: 0 0.5em 0 0.5em; text-align: left; border: none;\">\n",
       "        PAY_0\n",
       "    </td>\n",
       "    \n",
       "</tr>\n",
       "        \n",
       "        \n",
       "\n",
       "        \n",
       "        \n",
       "            <tr style=\"background-color: hsl(0, 100.00%, 83.59%); border: none;\">\n",
       "    <td style=\"padding: 0 1em 0 0.5em; text-align: right; border: none;\">\n",
       "        -1.390\n",
       "    </td>\n",
       "    <td style=\"padding: 0 0.5em 0 0.5em; text-align: left; border: none;\">\n",
       "        &lt;BIAS&gt;\n",
       "    </td>\n",
       "    \n",
       "</tr>\n",
       "        \n",
       "            <tr style=\"background-color: hsl(0, 100.00%, 80.00%); border: none;\">\n",
       "    <td style=\"padding: 0 1em 0 0.5em; text-align: right; border: none;\">\n",
       "        -1.844\n",
       "    </td>\n",
       "    <td style=\"padding: 0 0.5em 0 0.5em; text-align: left; border: none;\">\n",
       "        EDUCATION_5\n",
       "    </td>\n",
       "    \n",
       "</tr>\n",
       "        \n",
       "\n",
       "        </tbody>\n",
       "    </table>\n",
       "\n",
       "            \n",
       "        \n",
       "\n",
       "        \n",
       "\n",
       "\n",
       "\n",
       "    \n",
       "\n",
       "    \n",
       "\n",
       "    \n",
       "\n",
       "    \n",
       "\n",
       "\n",
       "    \n",
       "\n",
       "    \n",
       "\n",
       "    \n",
       "\n",
       "    \n",
       "\n",
       "    \n",
       "\n",
       "    \n",
       "\n",
       "\n",
       "    \n",
       "\n",
       "    \n",
       "\n",
       "    \n",
       "\n",
       "    \n",
       "\n",
       "    \n",
       "\n",
       "    \n",
       "\n",
       "\n",
       "\n"
      ],
      "text/plain": [
       "Explanation(estimator=\"LogisticRegression(C=1.0, class_weight=None, dual=False, fit_intercept=True,\\n                   intercept_scaling=1, l1_ratio=None, max_iter=10000,\\n                   multi_class='auto', n_jobs=None, penalty='l2',\\n                   random_state=None, solver='lbfgs', tol=0.0001, verbose=0,\\n                   warm_start=False)\", description=\"\\nFeatures with largest coefficients.\\nCaveats:\\n1. Be careful with features which are not\\n   independent - weights don't show their importance.\\n2. If scale of input features is different then scale of coefficients\\n   will also be different, making direct comparison between coefficient values\\n   incorrect.\\n3. Depending on regularization, rare features sometimes may have high\\n   coefficients; this doesn't mean they contribute much to the\\n   classification result for most examples.\\n\", error=None, method='linear model', is_regression=False, targets=[TargetExplanation(target=1, feature_weights=FeatureWeights(pos=[FeatureWeight(feature='PAY_0', weight=0.8248550971104025, std=None, value=None)], neg=[FeatureWeight(feature='EDUCATION_5', weight=-1.843982361789794, std=None, value=None), FeatureWeight(feature='<BIAS>', weight=-1.3900909284914211, std=None, value=None)], pos_remaining=0, neg_remaining=0), proba=None, score=None, weighted_spans=None, heatmap=None)], feature_importances=None, decision_tree=None, highlight_spaces=None, transition_features=None, image=None)"
      ]
     },
     "execution_count": 87,
     "metadata": {},
     "output_type": "execute_result"
    }
   ],
   "source": [
    "features = list(X_train_sel.columns)\n",
    "eli5.explain_weights(lr_sel, feature_names = features)"
   ]
  },
  {
   "cell_type": "markdown",
   "metadata": {},
   "source": [
    "The `PAY_0` (the latest repayment status of September, 2005) and `EDUCATION_5`(the education level being \"unknown\") are the two strong predictors of the probability of default or not."
   ]
  },
  {
   "cell_type": "markdown",
   "metadata": {},
   "source": [
    "### (10) Results on the test set\n"
   ]
  },
  {
   "cell_type": "code",
   "execution_count": 88,
   "metadata": {},
   "outputs": [
    {
     "name": "stdout",
     "output_type": "stream",
     "text": [
      "Fitting logistic_regression\n",
      "Fitting random forest\n",
      "Fitting lgbm\n",
      "Fitting sklearn NN\n"
     ]
    },
    {
     "data": {
      "text/html": [
       "<div>\n",
       "<style scoped>\n",
       "    .dataframe tbody tr th:only-of-type {\n",
       "        vertical-align: middle;\n",
       "    }\n",
       "\n",
       "    .dataframe tbody tr th {\n",
       "        vertical-align: top;\n",
       "    }\n",
       "\n",
       "    .dataframe thead th {\n",
       "        text-align: right;\n",
       "    }\n",
       "</style>\n",
       "<table border=\"1\" class=\"dataframe\">\n",
       "  <thead>\n",
       "    <tr style=\"text-align: right;\">\n",
       "      <th></th>\n",
       "      <th>train_acc</th>\n",
       "      <th>valid_acc</th>\n",
       "      <th>training time (s)</th>\n",
       "      <th>train f1 score</th>\n",
       "      <th>valid f1 score</th>\n",
       "    </tr>\n",
       "  </thead>\n",
       "  <tbody>\n",
       "    <tr>\n",
       "      <td>logistic_regression</td>\n",
       "      <td>0.818000</td>\n",
       "      <td>0.816500</td>\n",
       "      <td>0.023554</td>\n",
       "      <td>0.444181</td>\n",
       "      <td>0.446456</td>\n",
       "    </tr>\n",
       "    <tr>\n",
       "      <td>random forest</td>\n",
       "      <td>0.818222</td>\n",
       "      <td>0.816833</td>\n",
       "      <td>0.520354</td>\n",
       "      <td>0.442969</td>\n",
       "      <td>0.445789</td>\n",
       "    </tr>\n",
       "    <tr>\n",
       "      <td>lgbm</td>\n",
       "      <td>0.818111</td>\n",
       "      <td>0.816667</td>\n",
       "      <td>0.096370</td>\n",
       "      <td>0.441297</td>\n",
       "      <td>0.443320</td>\n",
       "    </tr>\n",
       "    <tr>\n",
       "      <td>sklearn NN</td>\n",
       "      <td>0.818056</td>\n",
       "      <td>0.816500</td>\n",
       "      <td>1.987650</td>\n",
       "      <td>0.443311</td>\n",
       "      <td>0.445340</td>\n",
       "    </tr>\n",
       "  </tbody>\n",
       "</table>\n",
       "</div>"
      ],
      "text/plain": [
       "                     train_acc  valid_acc  training time (s)  train f1 score  \\\n",
       "logistic_regression   0.818000   0.816500           0.023554        0.444181   \n",
       "random forest         0.818222   0.816833           0.520354        0.442969   \n",
       "lgbm                  0.818111   0.816667           0.096370        0.441297   \n",
       "sklearn NN            0.818056   0.816500           1.987650        0.443311   \n",
       "\n",
       "                     valid f1 score  \n",
       "logistic_regression        0.446456  \n",
       "random forest              0.445789  \n",
       "lgbm                       0.443320  \n",
       "sklearn NN                 0.445340  "
      ]
     },
     "execution_count": 88,
     "metadata": {},
     "output_type": "execute_result"
    }
   ],
   "source": [
    "classifiers = {\n",
    "    'logistic_regression' :LogisticRegression(max_iter = 10000),\n",
    "    'random forest' : RandomForestClassifier(),\n",
    "    'lgbm'           : LGBMClassifier(),\n",
    "    'sklearn NN'    : MLPClassifier()\n",
    "}\n",
    "\n",
    "train_scores = dict()\n",
    "valid_scores = dict()\n",
    "training_times = dict()\n",
    "train_f1 = dict()\n",
    "valid_f1 = dict()\n",
    "\n",
    "for classifier_name, classifier_obj in classifiers.items():\n",
    "    print(\"Fitting\", classifier_name)\n",
    "    t = time.time()\n",
    "    classifier_obj.fit(X_train_sel, y_train.to_numpy().ravel())\n",
    "    \n",
    "    train_predict = classifier_obj.predict(X_train_sel)\n",
    "    valid_predict = classifier_obj.predict(X_valid_sel)\n",
    "    \n",
    "    training_times[classifier_name] = time.time() - t\n",
    "    train_scores[classifier_name] = classifier_obj.score(X_train_sel, y_train)\n",
    "    valid_scores[classifier_name] = classifier_obj.score(X_valid_sel, y_valid)\n",
    "    \n",
    "    train_f1[classifier_name] = f1_score(y_train, train_predict)\n",
    "    valid_f1[classifier_name] = f1_score(y_valid, valid_predict)\n",
    "    \n",
    "#     display_confusion_matrix_classification_report(classifier_obj, X_valid_sel, y_valid, \n",
    "#                                                labels=['Non default', 'Default'])\n",
    "\n",
    "data = {\"train_acc\": train_scores, \"valid_acc\" : valid_scores, \"training time (s)\" : training_times, \"train f1 score\": train_f1, \"valid f1 score\": valid_f1}\n",
    "df_10 = pd.DataFrame(data, columns=data.keys())\n",
    "df_10.index = list(classifiers.keys())\n",
    "df_10"
   ]
  },
  {
   "cell_type": "markdown",
   "metadata": {},
   "source": [
    "#### All model are performing almost the same, then I will pick the simplest: logistic regression."
   ]
  },
  {
   "cell_type": "code",
   "execution_count": 89,
   "metadata": {},
   "outputs": [],
   "source": [
    "# Select only the same features in step 8 for the trainvalid set and test set\n",
    "\n",
    "X_trainvalid_sel = X_trainvalid.iloc[:, rfe.support_]\n",
    "X_test_sel = X_test.iloc[:, rfe.support_]"
   ]
  },
  {
   "cell_type": "code",
   "execution_count": 90,
   "metadata": {},
   "outputs": [
    {
     "data": {
      "text/plain": [
       "LogisticRegression(C=1.0, class_weight=None, dual=False, fit_intercept=True,\n",
       "                   intercept_scaling=1, l1_ratio=None, max_iter=10000,\n",
       "                   multi_class='auto', n_jobs=None, penalty='l2',\n",
       "                   random_state=None, solver='lbfgs', tol=0.0001, verbose=0,\n",
       "                   warm_start=False)"
      ]
     },
     "execution_count": 90,
     "metadata": {},
     "output_type": "execute_result"
    }
   ],
   "source": [
    "# fit the model \n",
    "\n",
    "lr_full = LogisticRegression(max_iter = 10000)\n",
    "lr_full.fit(X_trainvalid_sel, y_trainvalid)"
   ]
  },
  {
   "cell_type": "code",
   "execution_count": 91,
   "metadata": {},
   "outputs": [
    {
     "name": "stdout",
     "output_type": "stream",
     "text": [
      "The training accuracy 0.817625\n",
      "The validation accuracy 0.8291666666666667\n",
      "The validation f1 score 0.44981213097155126\n",
      "              precision    recall  f1-score   support\n",
      "\n",
      "           0       0.84      0.96      0.90      4726\n",
      "           1       0.71      0.33      0.45      1274\n",
      "\n",
      "    accuracy                           0.83      6000\n",
      "   macro avg       0.78      0.65      0.67      6000\n",
      "weighted avg       0.81      0.83      0.80      6000\n",
      "\n"
     ]
    },
    {
     "data": {
      "image/png": "[encoded data removed]",
      "text/plain": [
       "<Figure size 432x288 with 2 Axes>"
      ]
     },
     "metadata": {
      "needs_background": "light"
     },
     "output_type": "display_data"
    }
   ],
   "source": [
    "show_results(lr_full,X_trainvalid_sel, y_trainvalid,X_test_sel, y_test)"
   ]
  },
  {
   "cell_type": "markdown",
   "metadata": {},
   "source": [
    "### (12) Summary of results\n"
   ]
  },
  {
   "cell_type": "code",
   "execution_count": 99,
   "metadata": {},
   "outputs": [
    {
     "data": {
      "text/plain": [
       "dict_keys(['train_acc', 'test_acc', 'train_f1_score', 'test_f1_score'])"
      ]
     },
     "execution_count": 99,
     "metadata": {},
     "output_type": "execute_result"
    }
   ],
   "source": [
    "\n",
    "data_12.keys()"
   ]
  },
  {
   "cell_type": "code",
   "execution_count": 114,
   "metadata": {},
   "outputs": [
    {
     "data": {
      "text/html": [
       "<div>\n",
       "<style scoped>\n",
       "    .dataframe tbody tr th:only-of-type {\n",
       "        vertical-align: middle;\n",
       "    }\n",
       "\n",
       "    .dataframe tbody tr th {\n",
       "        vertical-align: top;\n",
       "    }\n",
       "\n",
       "    .dataframe thead th {\n",
       "        text-align: right;\n",
       "    }\n",
       "</style>\n",
       "<table border=\"1\" class=\"dataframe\">\n",
       "  <thead>\n",
       "    <tr style=\"text-align: right;\">\n",
       "      <th></th>\n",
       "      <th>train_acc</th>\n",
       "      <th>test_acc</th>\n",
       "      <th>train_f1_score</th>\n",
       "      <th>test_f1_score</th>\n",
       "    </tr>\n",
       "  </thead>\n",
       "  <tbody>\n",
       "    <tr>\n",
       "      <td>logistic regression</td>\n",
       "      <td>0.817625</td>\n",
       "      <td>0.829167</td>\n",
       "      <td>0.444755</td>\n",
       "      <td>0.449812</td>\n",
       "    </tr>\n",
       "  </tbody>\n",
       "</table>\n",
       "</div>"
      ],
      "text/plain": [
       "                     train_acc  test_acc  train_f1_score  test_f1_score\n",
       "logistic regression   0.817625  0.829167        0.444755       0.449812"
      ]
     },
     "execution_count": 114,
     "metadata": {},
     "output_type": "execute_result"
    }
   ],
   "source": [
    "train_score = lr_full.score(X_trainvalid_sel, y_trainvalid)\n",
    "test_score = lr_full.score(X_test_sel, y_test)\n",
    "train_f1 = f1_score(y_trainvalid, lr_full.predict(X_trainvalid_sel))\n",
    "test_f1 = f1_score(y_test, lr_full.predict(X_test_sel))\n",
    "\n",
    "data_12 = {\"train_acc\": train_score, \"test_acc\" : test_score, \"train_f1_score\": train_f1, \"test_f1_score\": test_f1}\n",
    "df_12 = pd.DataFrame(data_12,index=['logistic regression'])\n",
    "df_12"
   ]
  },
  {
   "cell_type": "markdown",
   "metadata": {},
   "source": [
    "#### Concluding marks\n",
    "\n",
    "From the accuracy perspective, it seems our final logistic regression classifier did ok, the train accuracy is 0.817625 and the test accuracy is 0.829167. However, from f1 perspective, it tells another story, it is only at around 0.44. And the reason is probably because it did poorly in predicting the `default` class."
   ]
  },
  {
   "cell_type": "markdown",
   "metadata": {},
   "source": [
    "#### Thoughts:\n",
    "\n",
    "The test accuracy is even higher training accuracy, it is somehow strange. I guess the reason is: with just predicting the non default, even the dummy classifier could get a accuracy of around 77%, and the final logistic regression classifier did not learn enough from the class 'default', that is why the training f1 score is low. \n",
    "\n"
   ]
  },
  {
   "cell_type": "markdown",
   "metadata": {},
   "source": [
    "#### improvements\n",
    "\n",
    "When I was training the model above, I did not deal with the class imbalances, I think one potential improvement one can make is to use weight, oversample, or undersample to deal with the imbalance.\n"
   ]
  }
 ],
 "metadata": {
  "kernelspec": {
   "display_name": "Python 3",
   "language": "python",
   "name": "python3"
  },
  "language_info": {
   "codemirror_mode": {
    "name": "ipython",
    "version": 3
   },
   "file_extension": ".py",
   "mimetype": "text/x-python",
   "name": "python",
   "nbconvert_exporter": "python",
   "pygments_lexer": "ipython3",
   "version": "3.7.6"
  }
 },
 "nbformat": 4,
 "nbformat_minor": 4
}
